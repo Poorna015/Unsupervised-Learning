{
 "cells": [
  {
   "cell_type": "code",
   "execution_count": 1,
   "metadata": {
    "collapsed": false,
    "deletable": true,
    "editable": true
   },
   "outputs": [
    {
     "name": "stdout",
     "output_type": "stream",
     "text": [
      "c:\\users\\gorapalp\\desktop\\cba\\dmg\\digits\n"
     ]
    }
   ],
   "source": [
    "cd C:\\Users\\gorapalp\\Desktop\\CBA\\DMG\\Digits"
   ]
  },
  {
   "cell_type": "code",
   "execution_count": 2,
   "metadata": {
    "collapsed": true,
    "deletable": true,
    "editable": true
   },
   "outputs": [],
   "source": [
    "import seaborn as sns\n",
    "import matplotlib.image as mpimg\n",
    "import matplotlib.pyplot as plt\n",
    "import matplotlib\n",
    "%matplotlib inline\n",
    "\n",
    "import numpy as np\n",
    "from numpy import linalg as LA\n",
    "from numpy import arange\n",
    "import pandas as pd\n",
    "\n",
    "import sklearn\n",
    "from sklearn.datasets.mldata import fetch_mldata\n",
    "from sklearn.preprocessing import scale\n",
    "from sklearn.decomposition import PCA"
   ]
  },
  {
   "cell_type": "markdown",
   "metadata": {
    "deletable": true,
    "editable": true
   },
   "source": [
    "### Data Loading and Plotting"
   ]
  },
  {
   "cell_type": "code",
   "execution_count": 6,
   "metadata": {
    "collapsed": false,
    "deletable": true,
    "editable": true,
    "scrolled": true
   },
   "outputs": [
    {
     "data": {
      "text/html": [
       "<div>\n",
       "<table border=\"1\" class=\"dataframe\">\n",
       "  <thead>\n",
       "    <tr style=\"text-align: right;\">\n",
       "      <th></th>\n",
       "      <th>label</th>\n",
       "      <th>pixel0</th>\n",
       "      <th>pixel1</th>\n",
       "      <th>pixel2</th>\n",
       "      <th>pixel3</th>\n",
       "      <th>pixel4</th>\n",
       "      <th>pixel5</th>\n",
       "      <th>pixel6</th>\n",
       "      <th>pixel7</th>\n",
       "      <th>pixel8</th>\n",
       "      <th>...</th>\n",
       "      <th>pixel774</th>\n",
       "      <th>pixel775</th>\n",
       "      <th>pixel776</th>\n",
       "      <th>pixel777</th>\n",
       "      <th>pixel778</th>\n",
       "      <th>pixel779</th>\n",
       "      <th>pixel780</th>\n",
       "      <th>pixel781</th>\n",
       "      <th>pixel782</th>\n",
       "      <th>pixel783</th>\n",
       "    </tr>\n",
       "  </thead>\n",
       "  <tbody>\n",
       "    <tr>\n",
       "      <th>0</th>\n",
       "      <td>1</td>\n",
       "      <td>0</td>\n",
       "      <td>0</td>\n",
       "      <td>0</td>\n",
       "      <td>0</td>\n",
       "      <td>0</td>\n",
       "      <td>0</td>\n",
       "      <td>0</td>\n",
       "      <td>0</td>\n",
       "      <td>0</td>\n",
       "      <td>...</td>\n",
       "      <td>0</td>\n",
       "      <td>0</td>\n",
       "      <td>0</td>\n",
       "      <td>0</td>\n",
       "      <td>0</td>\n",
       "      <td>0</td>\n",
       "      <td>0</td>\n",
       "      <td>0</td>\n",
       "      <td>0</td>\n",
       "      <td>0</td>\n",
       "    </tr>\n",
       "    <tr>\n",
       "      <th>1</th>\n",
       "      <td>0</td>\n",
       "      <td>0</td>\n",
       "      <td>0</td>\n",
       "      <td>0</td>\n",
       "      <td>0</td>\n",
       "      <td>0</td>\n",
       "      <td>0</td>\n",
       "      <td>0</td>\n",
       "      <td>0</td>\n",
       "      <td>0</td>\n",
       "      <td>...</td>\n",
       "      <td>0</td>\n",
       "      <td>0</td>\n",
       "      <td>0</td>\n",
       "      <td>0</td>\n",
       "      <td>0</td>\n",
       "      <td>0</td>\n",
       "      <td>0</td>\n",
       "      <td>0</td>\n",
       "      <td>0</td>\n",
       "      <td>0</td>\n",
       "    </tr>\n",
       "    <tr>\n",
       "      <th>2</th>\n",
       "      <td>1</td>\n",
       "      <td>0</td>\n",
       "      <td>0</td>\n",
       "      <td>0</td>\n",
       "      <td>0</td>\n",
       "      <td>0</td>\n",
       "      <td>0</td>\n",
       "      <td>0</td>\n",
       "      <td>0</td>\n",
       "      <td>0</td>\n",
       "      <td>...</td>\n",
       "      <td>0</td>\n",
       "      <td>0</td>\n",
       "      <td>0</td>\n",
       "      <td>0</td>\n",
       "      <td>0</td>\n",
       "      <td>0</td>\n",
       "      <td>0</td>\n",
       "      <td>0</td>\n",
       "      <td>0</td>\n",
       "      <td>0</td>\n",
       "    </tr>\n",
       "    <tr>\n",
       "      <th>3</th>\n",
       "      <td>4</td>\n",
       "      <td>0</td>\n",
       "      <td>0</td>\n",
       "      <td>0</td>\n",
       "      <td>0</td>\n",
       "      <td>0</td>\n",
       "      <td>0</td>\n",
       "      <td>0</td>\n",
       "      <td>0</td>\n",
       "      <td>0</td>\n",
       "      <td>...</td>\n",
       "      <td>0</td>\n",
       "      <td>0</td>\n",
       "      <td>0</td>\n",
       "      <td>0</td>\n",
       "      <td>0</td>\n",
       "      <td>0</td>\n",
       "      <td>0</td>\n",
       "      <td>0</td>\n",
       "      <td>0</td>\n",
       "      <td>0</td>\n",
       "    </tr>\n",
       "    <tr>\n",
       "      <th>4</th>\n",
       "      <td>0</td>\n",
       "      <td>0</td>\n",
       "      <td>0</td>\n",
       "      <td>0</td>\n",
       "      <td>0</td>\n",
       "      <td>0</td>\n",
       "      <td>0</td>\n",
       "      <td>0</td>\n",
       "      <td>0</td>\n",
       "      <td>0</td>\n",
       "      <td>...</td>\n",
       "      <td>0</td>\n",
       "      <td>0</td>\n",
       "      <td>0</td>\n",
       "      <td>0</td>\n",
       "      <td>0</td>\n",
       "      <td>0</td>\n",
       "      <td>0</td>\n",
       "      <td>0</td>\n",
       "      <td>0</td>\n",
       "      <td>0</td>\n",
       "    </tr>\n",
       "  </tbody>\n",
       "</table>\n",
       "<p>5 rows × 785 columns</p>\n",
       "</div>"
      ],
      "text/plain": [
       "   label  pixel0  pixel1  pixel2  pixel3  pixel4  pixel5  pixel6  pixel7  \\\n",
       "0      1       0       0       0       0       0       0       0       0   \n",
       "1      0       0       0       0       0       0       0       0       0   \n",
       "2      1       0       0       0       0       0       0       0       0   \n",
       "3      4       0       0       0       0       0       0       0       0   \n",
       "4      0       0       0       0       0       0       0       0       0   \n",
       "\n",
       "   pixel8    ...     pixel774  pixel775  pixel776  pixel777  pixel778  \\\n",
       "0       0    ...            0         0         0         0         0   \n",
       "1       0    ...            0         0         0         0         0   \n",
       "2       0    ...            0         0         0         0         0   \n",
       "3       0    ...            0         0         0         0         0   \n",
       "4       0    ...            0         0         0         0         0   \n",
       "\n",
       "   pixel779  pixel780  pixel781  pixel782  pixel783  \n",
       "0         0         0         0         0         0  \n",
       "1         0         0         0         0         0  \n",
       "2         0         0         0         0         0  \n",
       "3         0         0         0         0         0  \n",
       "4         0         0         0         0         0  \n",
       "\n",
       "[5 rows x 785 columns]"
      ]
     },
     "execution_count": 6,
     "metadata": {},
     "output_type": "execute_result"
    }
   ],
   "source": [
    "## Loading MNIST Data\n",
    "Digits_Train = pd.read_csv('C:/Users/gorapalp/Desktop/CBA/DMG/Digits/Digitstrain.csv',sep=',',header = 'infer')\n",
    "\n",
    "Digits_Train1 = pd.read_csv('C:/Users/gorapalp/Desktop/CBA/DMG/Digits/Digitstrain.csv',sep=',',header = 'infer')\n",
    "\n",
    "Digits_Train.head(5)"
   ]
  },
  {
   "cell_type": "code",
   "execution_count": 7,
   "metadata": {
    "collapsed": false,
    "deletable": true,
    "editable": true
   },
   "outputs": [
    {
     "data": {
      "text/plain": [
       "(42000, 784)"
      ]
     },
     "execution_count": 7,
     "metadata": {},
     "output_type": "execute_result"
    }
   ],
   "source": [
    "Digits_T = Digits_Train.drop(\"label\",1)\n",
    "Digits_T.shape"
   ]
  },
  {
   "cell_type": "code",
   "execution_count": 8,
   "metadata": {
    "collapsed": false,
    "deletable": true,
    "editable": true
   },
   "outputs": [
    {
     "data": {
      "text/plain": [
       "array([[0, 0, 0, ..., 0, 0, 0],\n",
       "       [0, 0, 0, ..., 0, 0, 0],\n",
       "       [0, 0, 0, ..., 0, 0, 0],\n",
       "       ..., \n",
       "       [0, 0, 0, ..., 0, 0, 0],\n",
       "       [0, 0, 0, ..., 0, 0, 0],\n",
       "       [0, 0, 0, ..., 0, 0, 0]], dtype=int64)"
      ]
     },
     "execution_count": 8,
     "metadata": {},
     "output_type": "execute_result"
    }
   ],
   "source": [
    "digits=Digits_Train['label']\n",
    "Digits_Train.drop(['label'],axis=1,inplace=True)\n",
    "X=Digits_Train.values\n",
    "Digits_Train.values"
   ]
  },
  {
   "cell_type": "code",
   "execution_count": 9,
   "metadata": {
    "collapsed": true,
    "deletable": true,
    "editable": true
   },
   "outputs": [],
   "source": [
    "Std_X=(X-X.mean())/X.std()"
   ]
  },
  {
   "cell_type": "code",
   "execution_count": null,
   "metadata": {
    "collapsed": false,
    "deletable": true,
    "editable": true
   },
   "outputs": [],
   "source": [
    "print(type(Digits_Train))\n",
    "print(type(X))"
   ]
  },
  {
   "cell_type": "markdown",
   "metadata": {
    "deletable": true,
    "editable": true
   },
   "source": [
    "For transform(X) function to work the input should be a array-like, which is done by fit()\n",
    "\n",
    "fit() : used for generating learning model parameters from training data\n",
    "\n",
    "transform() : parameters generated from fit() method,applied upon model to generate transformed data set.\n",
    "\n",
    "fit_transform() : combination of fit() and transform() api on same data set\n",
    "\n",
    "To center the data (make it have zero mean and unit standard error), you subtract the mean and then divide the result by the standard deviation.\n",
    "\n",
    "x′=x−μ/σ\n",
    "\n",
    "You do that on the training set of data. But then you have to apply the same transformation to your testing set (e.g. in cross-validation), or to newly obtained examples before forecast. But you have to use the same two parameters μ and σ (values) that you used for centering the training set.\n",
    "\n",
    "Hence, every sklearn's transform's fit() just calculates the parameters (e.g. μ and σ in case of StandardScaler) and saves them as an internal objects state. Afterwards, you can call its transform() method to apply the transformation to a particular set of examples.\n",
    "\n",
    "fit_transform() joins these two steps and is used for the initial fitting of parameters on the training set x, but it also returns a transformed x′. Internally, it just calls first fit() and then transform() on the same data."
   ]
  },
  {
   "cell_type": "code",
   "execution_count": 10,
   "metadata": {
    "collapsed": false,
    "deletable": true,
    "editable": true
   },
   "outputs": [
    {
     "name": "stderr",
     "output_type": "stream",
     "text": [
      "C:\\Users\\gorapalp\\AppData\\Local\\Enthought\\Canopy\\edm\\envs\\User\\lib\\site-packages\\sklearn\\utils\\validation.py:429: DataConversionWarning: Data with input dtype int64 was converted to float64 by StandardScaler.\n",
      "  warnings.warn(msg, _DataConversionWarning)\n"
     ]
    }
   ],
   "source": [
    "from sklearn.preprocessing import StandardScaler\n",
    "scalar=StandardScaler()\n",
    "Std_X1=pd.DataFrame(scalar.fit_transform(X).T)\n",
    "Std_X2=pd.DataFrame(scalar.fit_transform(X))"
   ]
  },
  {
   "cell_type": "code",
   "execution_count": null,
   "metadata": {
    "collapsed": false,
    "deletable": true,
    "editable": true
   },
   "outputs": [],
   "source": [
    "print(Std_X1)\n",
    "print(Std_X2)"
   ]
  },
  {
   "cell_type": "markdown",
   "metadata": {
    "deletable": true,
    "editable": true
   },
   "source": [
    "Though we reduced the number of observations, the number of dimesnions remain same from above. Next step is to reduce dimensionality.\n",
    "### How PCA Works?\n",
    "Listed below are the 6 general steps for performing a principal component analysis, which we will investigate in the following sections.\n",
    "* Take the whole dataset consisting of d-dimensional samples ignoring the class labels\n",
    "* Compute the d-dimensional mean vector (i.e., the means for every dimension of the whole dataset)\n",
    "* Compute the scatter matrix (alternatively, the covariance matrix) of the whole data set\n",
    "* Compute eigenvectors (e<sub>1</sub>,e<sub>2</sub>,...,e<sub>d</sub>) and corresponding eigenvalues (λ<sub>1</sub>,λ<sub>2</sub>,...,λ<sub>d</sub>)\n",
    "* Sort the eigenvectors by decreasing eigenvalues and choose k eigenvectors with the largest eigenvalues to form a d×k dimensional matrix W(where every column represents an eigenvector)\n",
    "* Use this d×k eigenvector matrix to transform the samples onto the new subspace. This can be summarized by the mathematical equation: y = W<sup>T</sup>×x (where x is a d×1-dimensional vector representing one sample, and y is the transformed k×1-dimensional sample in the new subspace.)"
   ]
  },
  {
   "cell_type": "markdown",
   "metadata": {
    "deletable": true,
    "editable": true
   },
   "source": [
    "### PCA Components\n",
    "To center the data (make it have zero mean and unit standard error), you subtract the mean and then divide the result by the standard deviation.\n",
    "\n",
    "x′=x−μ/σ\n",
    "\n",
    "You do that on the training set of data. But then you have to apply the same transformation to your testing set (e.g. in cross-validation), or to newly obtained examples before forecast. But you have to use the same two parameters μ and σ (values) that you used for centering the training set.\n",
    "\n",
    "Hence, every sklearn's transform's fit() just calculates the parameters (e.g. μ and σ in case of StandardScaler) and saves them as an internal objects state. Afterwards, you can call its transform() method to apply the transformation to a particular set of examples.\n",
    "\n",
    "fit_transform() joins these two steps and is used for the initial fitting of parameters on the training set x, but it also returns a transformed x′. Internally, it just calls first fit() and then transform() on the same data.\n",
    "\n",
    "##Explained Variance\n",
    "------------------------\n",
    "The explained variance tells you how much information (variance) can be attributed to each of the principal components. This is important as while you can convert 4 dimensional space to 2 dimensional space, you lose some of the variance (information) when you do this. By using the attribute explained_variance_ratio_, you can see that the first principal component contains some% of the variance and the second principal component contains some % of the variance. "
   ]
  },
  {
   "cell_type": "markdown",
   "metadata": {
    "deletable": true,
    "editable": true
   },
   "source": [
    "##Step 1 is already done above so here continuiung from step 2 of the procedure"
   ]
  },
  {
   "cell_type": "code",
   "execution_count": 11,
   "metadata": {
    "collapsed": false,
    "deletable": true,
    "editable": true
   },
   "outputs": [
    {
     "data": {
      "text/plain": [
       "(784,)"
      ]
     },
     "execution_count": 11,
     "metadata": {},
     "output_type": "execute_result"
    }
   ],
   "source": [
    "#Step 2 Compute the mean vector\n",
    "mean_vec=np.mean(Std_X2,axis=0)\n",
    "mean_vec.shape"
   ]
  },
  {
   "cell_type": "code",
   "execution_count": 12,
   "metadata": {
    "collapsed": false,
    "deletable": true,
    "editable": true
   },
   "outputs": [],
   "source": [
    "##Step 3 compute scatter matrix or covariance matrix\n",
    "cov_mat=(Std_X2-mean_vec).T.dot(Std_X2-mean_vec)/(Std_X2.shape[0]-1)"
   ]
  },
  {
   "cell_type": "code",
   "execution_count": 13,
   "metadata": {
    "collapsed": false,
    "deletable": true,
    "editable": true
   },
   "outputs": [],
   "source": [
    "##Step 3 compute scatter matrix or covariance matrix using direct function\n",
    "cov_matX1=Std_X1.cov()\n",
    "cov_matX2=Std_X2.cov()"
   ]
  },
  {
   "cell_type": "code",
   "execution_count": 14,
   "metadata": {
    "collapsed": false,
    "deletable": true,
    "editable": true
   },
   "outputs": [
    {
     "name": "stdout",
     "output_type": "stream",
     "text": [
      "Dimension of Eigen Value (784,)\n",
      "Dimension of Eigen Vector (784, 784)\n"
     ]
    },
    {
     "data": {
      "text/plain": [
       "array([  4.06964787e+01,   2.91114657e+01,   2.67833371e+01,\n",
       "         2.08147194e+01,   1.81000206e+01,   1.57876737e+01,\n",
       "         1.38244007e+01,   1.25432643e+01,   1.10638975e+01,\n",
       "         1.00889267e+01,   9.63617203e+00,   8.65579470e+00,\n",
       "         8.04120472e+00,   7.88086691e+00,   7.43637560e+00,\n",
       "         7.16743699e+00,   6.73538375e+00,   6.61651973e+00,\n",
       "         6.42354578e+00,   6.26826675e+00,   5.93960379e+00,\n",
       "         5.74928832e+00,   5.48826880e+00,   5.32649477e+00,\n",
       "         5.15217038e+00,   4.94730998e+00,   4.88853571e+00,\n",
       "         4.70777145e+00,   4.46528559e+00,   4.36351702e+00,\n",
       "         4.32543150e+00,   4.22712324e+00,   4.08726514e+00,\n",
       "         4.06176768e+00,   3.99903435e+00,   3.86804997e+00,\n",
       "         3.81925839e+00,   3.71256507e+00,   3.57437538e+00,\n",
       "         3.45887625e+00,   3.41436841e+00,   3.36945857e+00,\n",
       "         3.25693182e+00,   3.24008824e+00,   3.18312949e+00,\n",
       "         3.16286640e+00,   3.14244041e+00,   3.09287815e+00,\n",
       "         3.06368054e+00,   3.02342271e+00,   2.96849737e+00,\n",
       "         2.91830693e+00,   2.84948896e+00,   2.82806029e+00,\n",
       "         2.79589667e+00,   2.76696531e+00,   2.68974637e+00,\n",
       "         2.63703541e+00,   2.60842615e+00,   2.58938021e+00,\n",
       "         2.50126884e+00,   2.48576071e+00,   2.44558621e+00,\n",
       "         2.41712754e+00,   2.39156842e+00,   2.38231165e+00,\n",
       "         2.34856157e+00,   2.33451020e+00,   2.26576633e+00,\n",
       "         2.24282552e+00,   2.21393592e+00,   2.20802976e+00,\n",
       "         2.18219367e+00,   2.14724525e+00,   2.13473541e+00,\n",
       "         2.10380281e+00,   2.08757888e+00,   2.07894080e+00,\n",
       "         2.03801029e+00,   2.03133938e+00,   2.00490133e+00,\n",
       "         2.00287449e+00,   1.99449324e+00,   1.97689115e+00,\n",
       "         1.96008723e+00,   1.95636136e+00,   1.93942293e+00,\n",
       "         1.92446256e+00,   1.89848257e+00,   1.87937806e+00,\n",
       "         1.85551338e+00,   1.84200398e+00,   1.82806936e+00,\n",
       "         1.80457363e+00,   1.79485190e+00,   1.78704055e+00,\n",
       "         1.77056345e+00,   1.74032854e+00,   1.73010661e+00,\n",
       "         1.70906271e+00,   1.68261945e+00,   1.67268356e+00,\n",
       "         1.64494828e+00,   1.63015678e+00,   1.62487959e+00,\n",
       "         1.60339823e+00,   1.59274839e+00,   1.58361788e+00,\n",
       "         1.56267777e+00,   1.55901925e+00,   1.53504626e+00,\n",
       "         1.52008847e+00,   1.49520235e+00,   1.48603778e+00,\n",
       "         1.45055614e+00,   1.44459114e+00,   1.43033417e+00,\n",
       "         1.41795560e+00,   1.39484275e+00,   1.38579986e+00,\n",
       "         1.37650895e+00,   1.35771292e+00,   1.34771049e+00,\n",
       "         1.34570698e+00,   1.34213381e+00,   1.31356375e+00,\n",
       "         1.30493639e+00,   1.29299011e+00,   1.27261905e+00,\n",
       "         1.26981714e+00,   1.25879085e+00,   1.24739641e+00,\n",
       "         1.23115097e+00,   1.22793075e+00,   1.21762120e+00,\n",
       "         1.19329954e+00,   1.18916126e+00,   1.17802678e+00,\n",
       "         1.16093225e+00,   1.15545658e+00,   1.14433133e+00,\n",
       "         1.13878223e+00,   1.13064811e+00,   1.12236199e+00,\n",
       "         1.10780517e+00,   1.10288070e+00,   1.09195242e+00,\n",
       "         1.08405932e+00,   1.08133300e+00,   1.06294123e+00,\n",
       "         1.05738260e+00,   1.04663138e+00,   1.04507095e+00,\n",
       "         1.04311840e+00,   1.02998178e+00,   1.02558001e+00,\n",
       "         1.01540703e+00,   1.00880528e+00,   1.00401273e+00,\n",
       "         1.00085979e+00,   1.00059511e+00,   9.98732579e-01,\n",
       "         9.97489540e-01,   9.94638916e-01,   9.91308409e-01,\n",
       "         9.85156455e-01,   9.80237354e-01,   9.72246164e-01,\n",
       "         9.65831160e-01,   9.53894115e-01,   9.51684336e-01,\n",
       "         9.43466664e-01,   9.33037111e-01,   9.29057570e-01,\n",
       "         9.20584735e-01,   9.19459865e-01,   9.07482172e-01,\n",
       "         9.05966151e-01,   9.02871955e-01,   8.97572899e-01,\n",
       "         8.92863122e-01,   8.80187779e-01,   8.79240514e-01,\n",
       "         8.73931589e-01,   8.62347600e-01,   8.49807232e-01,\n",
       "         8.40676692e-01,   8.31539874e-01,   8.25674163e-01,\n",
       "         8.19252418e-01,   8.12861064e-01,   8.11592940e-01,\n",
       "         8.03255754e-01,   7.84585502e-01,   7.76178902e-01,\n",
       "         7.71126050e-01,   7.63294320e-01,   7.58028622e-01,\n",
       "         7.52893560e-01,   7.47750289e-01,   7.42636328e-01,\n",
       "         7.39046734e-01,   7.22733581e-01,   7.15415942e-01,\n",
       "         7.13229040e-01,   7.02034106e-01,   6.98586791e-01,\n",
       "         6.88015185e-01,   6.86033976e-01,   6.81612982e-01,\n",
       "         6.74514972e-01,   6.67469656e-01,   6.63476028e-01,\n",
       "         6.57072661e-01,   6.47560094e-01,   6.44656444e-01,\n",
       "         6.38688842e-01,   6.35679718e-01,   6.26853394e-01,\n",
       "         6.24610009e-01,   6.13360650e-01,   6.10604440e-01,\n",
       "         6.07370327e-01,   6.03973922e-01,   5.94951302e-01,\n",
       "         5.90502358e-01,   5.84207606e-01,   5.80874805e-01,\n",
       "         5.71834852e-01,   5.68610497e-01,   5.65957087e-01,\n",
       "         5.60115218e-01,   5.55960471e-01,   5.45699968e-01,\n",
       "         5.35246706e-01,   5.31868973e-01,   5.24854304e-01,\n",
       "         5.21171138e-01,   5.19563501e-01,   5.14673411e-01,\n",
       "         5.13704450e-01,   5.06213771e-01,   4.99094655e-01,\n",
       "         4.92977886e-01,   4.92323016e-01,   4.90344290e-01,\n",
       "         4.87552419e-01,   4.83352924e-01,   4.74146317e-01,\n",
       "         4.70889600e-01,   4.67378543e-01,   4.59936905e-01,\n",
       "         4.53273625e-01,   4.44865137e-01,   4.42581515e-01,\n",
       "         4.39246566e-01,   4.34074136e-01,   4.29492020e-01,\n",
       "         4.28364801e-01,   4.25772687e-01,   4.21478409e-01,\n",
       "         4.16710554e-01,   4.14210541e-01,   4.12930344e-01,\n",
       "         4.07094341e-01,   4.05414453e-01,   4.03143926e-01,\n",
       "         4.00795537e-01,   3.98159900e-01,   3.90854436e-01,\n",
       "         3.87473943e-01,   3.86223501e-01,   3.84145290e-01,\n",
       "         3.79533086e-01,   3.73172176e-01,   3.71892133e-01,\n",
       "         3.69391173e-01,   3.66358393e-01,   3.62248115e-01,\n",
       "         3.57916892e-01,   3.55276687e-01,   3.53444103e-01,\n",
       "         3.51439399e-01,   3.47669173e-01,   3.44804820e-01,\n",
       "         3.40342867e-01,   3.38702285e-01,   3.35520774e-01,\n",
       "         3.29214797e-01,   3.28742206e-01,   3.22654681e-01,\n",
       "         3.21341831e-01,   3.19916448e-01,   3.18827959e-01,\n",
       "         3.13972075e-01,   3.12036206e-01,   3.08783622e-01,\n",
       "         3.06327099e-01,   3.03285903e-01,   2.98252654e-01,\n",
       "         2.95891353e-01,   2.93156105e-01,   2.92655253e-01,\n",
       "         2.89165572e-01,   2.88693138e-01,   2.85060320e-01,\n",
       "         2.84077254e-01,   2.81779345e-01,   2.80576951e-01,\n",
       "         2.79089520e-01,   2.74542527e-01,   2.71518295e-01,\n",
       "         2.70766198e-01,   2.69170325e-01,   2.68093590e-01,\n",
       "         2.63532046e-01,   2.62356076e-01,   2.59328865e-01,\n",
       "         2.56065840e-01,   2.52674271e-01,   2.52189835e-01,\n",
       "         2.50312901e-01,   2.49108924e-01,   2.46769035e-01,\n",
       "         2.43578595e-01,   2.39788724e-01,   2.39559061e-01,\n",
       "         2.39172871e-01,   2.37041838e-01,   2.34325533e-01,\n",
       "         2.32192697e-01,   2.31521107e-01,   2.29877264e-01,\n",
       "         2.28369757e-01,   2.27315459e-01,   2.25467669e-01,\n",
       "         2.23686573e-01,   2.22209574e-01,   2.19310570e-01,\n",
       "         2.18287058e-01,   2.16709922e-01,   2.16085477e-01,\n",
       "         2.13657138e-01,   2.11752378e-01,   2.11003393e-01,\n",
       "         2.07782126e-01,   2.07362911e-01,   2.05305509e-01,\n",
       "         2.03856109e-01,   2.02235560e-01,   2.00812560e-01,\n",
       "         1.99786715e-01,   1.98096510e-01,   1.97737649e-01,\n",
       "         1.96511555e-01,   1.92617457e-01,   1.91272983e-01,\n",
       "         1.89166923e-01,   1.87869082e-01,   1.86456483e-01,\n",
       "         1.85706416e-01,   1.83902655e-01,   1.83141606e-01,\n",
       "         1.81311986e-01,   1.79920687e-01,   1.79161251e-01,\n",
       "         1.77381158e-01,   1.75975867e-01,   1.75273366e-01,\n",
       "         1.74807379e-01,   1.73803618e-01,   1.72545572e-01,\n",
       "         1.71154472e-01,   1.69525154e-01,   1.69040063e-01,\n",
       "         1.67363572e-01,   1.67019615e-01,   1.64574788e-01,\n",
       "         1.63320836e-01,   1.62976620e-01,   1.60732414e-01,\n",
       "         1.60511066e-01,   1.59755690e-01,   1.59060560e-01,\n",
       "         1.57171797e-01,   1.57064154e-01,   1.55975646e-01,\n",
       "         1.54403086e-01,   1.54029034e-01,   1.52775932e-01,\n",
       "         1.51708097e-01,   1.51098405e-01,   1.49425967e-01,\n",
       "         1.48261878e-01,   1.47841906e-01,   1.47044774e-01,\n",
       "         1.45952701e-01,   1.45311681e-01,   1.43918353e-01,\n",
       "         1.43655513e-01,   1.42058242e-01,   1.41872593e-01,\n",
       "         1.40338961e-01,   1.39131917e-01,   1.38183242e-01,\n",
       "         1.37531329e-01,   1.37172724e-01,   1.35870185e-01,\n",
       "         1.35134046e-01,   1.34644158e-01,   1.34029004e-01,\n",
       "         1.33200749e-01,   1.32334859e-01,   1.30123277e-01,\n",
       "         1.29465267e-01,   1.28088097e-01,   1.27080982e-01,\n",
       "         1.26247302e-01,   1.25809011e-01,   1.24472334e-01,\n",
       "         1.23947335e-01,   1.23574365e-01,   1.22589703e-01,\n",
       "         1.21671027e-01,   1.20624176e-01,   1.20462986e-01,\n",
       "         1.19954193e-01,   1.18705982e-01,   1.18317674e-01,\n",
       "         1.17914265e-01,   1.17368422e-01,   1.16749450e-01,\n",
       "         1.16476892e-01,   1.15593935e-01,   1.14687014e-01,\n",
       "         1.13672068e-01,   1.12424754e-01,   1.11504809e-01,\n",
       "         1.10797078e-01,   1.10530553e-01,   1.09895182e-01,\n",
       "         1.09462846e-01,   1.08218391e-01,   1.07358827e-01,\n",
       "         1.06820525e-01,   1.05756101e-01,   1.05205740e-01,\n",
       "         1.04581665e-01,   1.04111592e-01,   1.03327473e-01,\n",
       "         1.03202582e-01,   1.02793173e-01,   1.01967671e-01,\n",
       "         1.01537406e-01,   1.01422654e-01,   1.00911475e-01,\n",
       "         1.00339824e-01,   9.96836722e-02,   9.91889457e-02,\n",
       "         9.88925565e-02,   9.80570318e-02,   9.76705929e-02,\n",
       "         9.72733168e-02,   9.67945700e-02,   9.61679403e-02,\n",
       "         9.53971134e-02,   9.51440908e-02,   9.48239916e-02,\n",
       "         9.41238871e-02,   9.34945414e-02,   9.31454716e-02,\n",
       "         9.25975172e-02,   9.19479645e-02,   9.11655073e-02,\n",
       "         9.08395396e-02,   9.06257749e-02,   8.99728398e-02,\n",
       "         8.97824557e-02,   8.87926320e-02,   8.82818785e-02,\n",
       "         8.80383536e-02,   8.74535872e-02,   8.70566608e-02,\n",
       "         8.69135075e-02,   8.66121447e-02,   8.59182479e-02,\n",
       "         8.52344712e-02,   8.47282781e-02,   8.41810241e-02,\n",
       "         8.40164489e-02,   8.37013296e-02,   8.31900338e-02,\n",
       "         8.28397736e-02,   8.18428547e-02,   8.12411740e-02,\n",
       "         8.08441925e-02,   8.06071235e-02,   8.02831545e-02,\n",
       "         7.95154844e-02,   7.91153952e-02,   7.87729700e-02,\n",
       "         7.82804321e-02,   7.76918093e-02,   7.75948162e-02,\n",
       "         7.67704119e-02,   7.66152753e-02,   7.62856642e-02,\n",
       "         7.60792821e-02,   7.56144841e-02,   7.53340016e-02,\n",
       "         7.49342097e-02,   7.45319671e-02,   7.40647684e-02,\n",
       "         7.36734238e-02,   7.35825512e-02,   7.32348315e-02,\n",
       "         7.28729326e-02,   7.22591767e-02,   7.17394420e-02,\n",
       "         7.13435887e-02,   7.11035790e-02,   7.04635819e-02,\n",
       "         7.03068563e-02,   7.01509595e-02,   6.94180618e-02,\n",
       "         6.93312448e-02,   6.90763606e-02,   6.87226875e-02,\n",
       "         6.86469490e-02,   6.82317854e-02,   6.75615009e-02,\n",
       "         6.74109497e-02,   6.70356913e-02,   6.64086317e-02,\n",
       "         6.59528013e-02,   6.56177831e-02,   6.55875051e-02,\n",
       "         6.48906241e-02,   6.45023507e-02,   6.41733599e-02,\n",
       "         6.39677292e-02,   6.37009709e-02,   6.35405592e-02,\n",
       "         6.31116500e-02,   6.25433039e-02,   6.23047465e-02,\n",
       "         6.19876230e-02,   6.12576356e-02,   6.10461667e-02,\n",
       "         6.07061827e-02,   6.04994044e-02,   6.03362537e-02,\n",
       "         5.98907310e-02,   5.94003405e-02,   5.92340139e-02,\n",
       "         5.88720204e-02,   5.83445230e-02,   5.79520253e-02,\n",
       "         5.76276837e-02,   5.73163743e-02,   5.70511452e-02,\n",
       "         5.64142859e-02,   5.60500297e-02,   5.58520725e-02,\n",
       "         5.57270658e-02,   5.54407637e-02,   5.51380741e-02,\n",
       "         5.51210642e-02,   5.48946150e-02,   5.42257715e-02,\n",
       "         5.35984521e-02,   5.35555860e-02,   5.32855497e-02,\n",
       "         5.29209100e-02,   5.26432337e-02,   5.21737306e-02,\n",
       "         5.21571591e-02,   5.19264791e-02,   5.14291040e-02,\n",
       "         5.12922009e-02,   5.11155832e-02,   5.07656494e-02,\n",
       "         5.02345307e-02,   5.01174560e-02,   4.96789909e-02,\n",
       "         4.93287526e-02,   4.92629809e-02,   4.91526310e-02,\n",
       "         4.87500752e-02,   4.84464610e-02,   4.80670006e-02,\n",
       "         4.78897940e-02,   4.75959289e-02,   4.75548839e-02,\n",
       "         4.72185987e-02,   4.69657305e-02,   4.67182388e-02,\n",
       "         4.64812861e-02,   4.60821493e-02,   4.56376799e-02,\n",
       "         4.54685927e-02,   4.52431605e-02,   4.51191639e-02,\n",
       "         4.50029003e-02,   4.45039024e-02,   4.42545198e-02,\n",
       "         4.40941743e-02,   4.37349341e-02,   4.36005152e-02,\n",
       "         4.34104777e-02,   4.31202124e-02,   4.27271678e-02,\n",
       "         4.26360416e-02,   4.24977918e-02,   4.20131431e-02,\n",
       "         4.16774536e-02,   4.13158854e-02,   4.11508053e-02,\n",
       "         4.07624811e-02,   4.04293184e-02,   4.02441394e-02,\n",
       "         4.01847487e-02,   4.00184899e-02,   3.97656617e-02,\n",
       "         3.95594658e-02,   3.94446462e-02,   3.92530371e-02,\n",
       "         3.87454955e-02,   3.83428564e-02,   3.83374260e-02,\n",
       "         3.78940543e-02,   3.77840909e-02,   3.74020397e-02,\n",
       "         3.73884583e-02,   3.71633500e-02,   3.69102779e-02,\n",
       "         3.67440441e-02,   3.64469641e-02,   3.62346546e-02,\n",
       "         3.57964723e-02,   3.55677031e-02,   3.53633339e-02,\n",
       "         3.50902616e-02,   3.48193963e-02,   3.46720315e-02,\n",
       "         3.44248768e-02,   3.42649549e-02,   3.41420046e-02,\n",
       "         3.37610519e-02,   3.31892758e-02,   3.30084575e-02,\n",
       "         3.28641196e-02,   3.26051210e-02,   3.23704254e-02,\n",
       "         3.20274603e-02,   3.18488389e-02,   3.17456369e-02,\n",
       "         3.15351062e-02,   3.13298617e-02,   3.09266153e-02,\n",
       "         3.07167296e-02,   3.05483353e-02,   3.02743156e-02,\n",
       "         2.98324305e-02,   2.95424662e-02,   2.93020097e-02,\n",
       "         2.91424449e-02,   2.87958485e-02,   2.86279422e-02,\n",
       "         2.84487225e-02,   2.81566677e-02,   2.77839637e-02,\n",
       "         2.76521352e-02,   2.73991011e-02,   2.70833655e-02,\n",
       "         2.68907193e-02,   2.68050276e-02,   2.65511151e-02,\n",
       "         2.63888105e-02,   2.60089847e-02,   2.56695209e-02,\n",
       "         2.53681902e-02,   2.52662650e-02,   2.48145341e-02,\n",
       "         2.44872838e-02,   2.42552173e-02,   2.40557182e-02,\n",
       "         2.37827671e-02,   2.34615511e-02,   2.33458932e-02,\n",
       "         2.31601784e-02,   2.28075169e-02,   2.20246845e-02,\n",
       "         2.14067702e-02,   2.11612944e-02,   2.07778286e-02,\n",
       "         2.01407766e-02,   1.85495902e-02,   1.80344876e-02,\n",
       "         1.17564293e-02,   8.45760078e-03,   4.75373246e-03,\n",
       "         1.88077030e-03,   5.97321913e-04,   5.75676444e-15,\n",
       "         3.69572048e-16,   2.03610327e-16,   0.00000000e+00,\n",
       "         0.00000000e+00,   0.00000000e+00,   0.00000000e+00,\n",
       "         0.00000000e+00,   0.00000000e+00,   0.00000000e+00,\n",
       "         0.00000000e+00,   0.00000000e+00,   0.00000000e+00,\n",
       "         0.00000000e+00,   0.00000000e+00,   0.00000000e+00,\n",
       "         0.00000000e+00,   0.00000000e+00,   0.00000000e+00,\n",
       "         0.00000000e+00,   0.00000000e+00,   0.00000000e+00,\n",
       "         0.00000000e+00,   0.00000000e+00,   0.00000000e+00,\n",
       "         0.00000000e+00,   0.00000000e+00,   0.00000000e+00,\n",
       "         0.00000000e+00,   0.00000000e+00,   0.00000000e+00,\n",
       "         0.00000000e+00,   0.00000000e+00,   0.00000000e+00,\n",
       "         0.00000000e+00,   0.00000000e+00,   0.00000000e+00,\n",
       "         0.00000000e+00,   0.00000000e+00,   0.00000000e+00,\n",
       "         0.00000000e+00,   0.00000000e+00,   0.00000000e+00,\n",
       "         0.00000000e+00,   0.00000000e+00,   0.00000000e+00,\n",
       "         0.00000000e+00,   0.00000000e+00,   0.00000000e+00,\n",
       "         0.00000000e+00,   0.00000000e+00,   0.00000000e+00,\n",
       "         0.00000000e+00,   0.00000000e+00,   0.00000000e+00,\n",
       "         0.00000000e+00,   0.00000000e+00,   0.00000000e+00,\n",
       "         0.00000000e+00,   0.00000000e+00,   0.00000000e+00,\n",
       "         0.00000000e+00,   0.00000000e+00,   0.00000000e+00,\n",
       "         0.00000000e+00,   0.00000000e+00,   0.00000000e+00,\n",
       "         0.00000000e+00,   0.00000000e+00,   0.00000000e+00,\n",
       "         0.00000000e+00,   0.00000000e+00,   0.00000000e+00,\n",
       "         0.00000000e+00,   0.00000000e+00,   0.00000000e+00,\n",
       "         0.00000000e+00,   0.00000000e+00,   0.00000000e+00,\n",
       "        -1.33100946e-16])"
      ]
     },
     "execution_count": 14,
     "metadata": {},
     "output_type": "execute_result"
    }
   ],
   "source": [
    "##Step 4 computr eignen vectors and eigen values\n",
    "eigval, eigvec = LA.eig(cov_mat)\n",
    "idx = eigval.argsort()[::-1]   \n",
    "eigval = eigval[idx]\n",
    "eigvec = eigvec[:,idx]\n",
    "print('Dimension of Eigen Value', eigval.shape)\n",
    "print('Dimension of Eigen Vector', eigvec.shape)\n",
    "eigval"
   ]
  },
  {
   "cell_type": "code",
   "execution_count": 15,
   "metadata": {
    "collapsed": false,
    "deletable": true,
    "editable": true
   },
   "outputs": [],
   "source": [
    "var_exp=[(i/sum(eigval))*100 for i in sorted(eigval, reverse=True)]"
   ]
  },
  {
   "cell_type": "code",
   "execution_count": 16,
   "metadata": {
    "collapsed": false,
    "deletable": true,
    "editable": true
   },
   "outputs": [
    {
     "data": {
      "text/plain": [
       "array([   5.74795336,    9.85964439,   13.64251154,   16.58237366,\n",
       "         19.13881288,   21.36865721,   23.32120968,   25.09281499,\n",
       "         26.65547517,   28.08043088,   29.44143972,   30.66398049,\n",
       "         31.79971682,   32.91280711,   33.96311764,   34.9754434 ,\n",
       "         35.92674613,   36.86126057,   37.76851945,   38.65384678,\n",
       "         39.49275389,   40.30478093,   41.07994168,   41.83225354,\n",
       "         42.55994389,   43.25869985,   43.94915456,   44.6140782 ,\n",
       "         45.24475323,   45.86105452,   46.47197663,   47.06901372,\n",
       "         47.64629731,   48.21997965,   48.78480156,   49.33112329,\n",
       "         49.87055373,   50.39491484,   50.8997581 ,   51.38828831,\n",
       "         51.87053225,   52.34643315,   52.80644081,   53.2640695 ,\n",
       "         53.71365335,   54.16037526,   54.60421221,   55.041049  ,\n",
       "         55.47376194,   55.90078888,   56.32005818,   56.73223862,\n",
       "         57.13469922,   57.53413326,   57.92902451,   58.31982952,\n",
       "         58.69972815,   59.07218191,   59.44059491,   59.80631787,\n",
       "         60.15959602,   60.51068381,   60.85609736,   61.19749143,\n",
       "         61.53527554,   61.87175222,   62.20346206,   62.53318729,\n",
       "         62.85320316,   63.16997888,   63.48267425,   63.79453544,\n",
       "         64.10274754,   64.40602355,   64.70753267,   65.00467289,\n",
       "         65.29952164,   65.59315036,   65.88099806,   66.16790357,\n",
       "         66.45107499,   66.73396013,   67.0156615 ,   67.29487677,\n",
       "         67.57171866,   67.8480343 ,   68.12195757,   68.39376785,\n",
       "         68.66190872,   68.92735128,   69.1894232 ,   69.44958706,\n",
       "         69.70778279,   69.96266001,   70.21616413,   70.46856497,\n",
       "         70.7186386 ,   70.96444187,   71.20880139,   71.45018868,\n",
       "         71.68784113,   71.92409025,   72.15642204,   72.38666469,\n",
       "         72.616162  ,   72.84262528,   73.06758439,   73.2912539 ,\n",
       "         73.51196585,   73.73216106,   73.94897035,   74.16366699,\n",
       "         74.37484874,   74.58473608,   74.78961202,   74.99364545,\n",
       "         75.19566524,   75.39593669,   75.59294369,   75.78867347,\n",
       "         75.98309101,   76.1748538 ,   76.36520386,   76.55527094,\n",
       "         76.74483335,   76.93036054,   77.1146692 ,   77.29729057,\n",
       "         77.47703475,   77.65638318,   77.83417427,   78.010356  ,\n",
       "         78.18424324,   78.35767566,   78.52965196,   78.69819308,\n",
       "         78.86614971,   79.03253371,   79.19650329,   79.35969949,\n",
       "         79.52132436,   79.68216548,   79.84185774,   80.00037967,\n",
       "         80.1568456 ,   80.312616  ,   80.46684289,   80.61995497,\n",
       "         80.77268198,   80.92281135,   81.07215562,   81.21998139,\n",
       "         81.36758677,   81.51491637,   81.66039056,   81.80524304,\n",
       "         81.9486587 ,   82.09114193,   82.23294826,   82.37430927,\n",
       "         82.5156329 ,   82.65669346,   82.79757846,   82.93806084,\n",
       "         83.07807282,   83.2172159 ,   83.3556642 ,   83.49298384,\n",
       "         83.62939742,   83.76412502,   83.89854051,   84.03179534,\n",
       "         84.16357711,   84.2947968 ,   84.4248198 ,   84.55468392,\n",
       "         84.68285632,   84.81081459,   84.93833584,   85.06510866,\n",
       "         85.19121627,   85.31553361,   85.43971717,   85.5631509 ,\n",
       "         85.6849485 ,   85.80497492,   85.92371174,   86.04115807,\n",
       "         86.15777594,   86.2734868 ,   86.38829496,   86.502924  ,\n",
       "         86.6163755 ,   86.72719002,   86.8368172 ,   86.94573072,\n",
       "         87.05353808,   87.16060172,   87.26694009,   87.37255202,\n",
       "         87.47744166,   87.58182431,   87.68390289,   87.78494793,\n",
       "         87.8856841 ,   87.9848391 ,   88.0835072 ,   88.18068217,\n",
       "         88.27757732,   88.37384805,   88.46911626,   88.56338939,\n",
       "         88.65709846,   88.74990312,   88.84136423,   88.93241524,\n",
       "         89.02262338,   89.11240651,   89.20094302,   89.28916267,\n",
       "         89.37579347,   89.46203498,   89.5478197 ,   89.63312472,\n",
       "         89.71715539,   89.8005577 ,   89.88307093,   89.96511344,\n",
       "         90.04587915,   90.12618946,   90.20612499,   90.28523543,\n",
       "         90.36375905,   90.44083348,   90.5164315 ,   90.59155245,\n",
       "         90.66568265,   90.73929264,   90.81267556,   90.88536782,\n",
       "         90.95792322,   91.02942063,   91.09991255,   91.16954054,\n",
       "         91.23907603,   91.30833205,   91.37719375,   91.44546231,\n",
       "         91.51243053,   91.57893878,   91.64495113,   91.70991242,\n",
       "         91.77393259,   91.83676516,   91.89927518,   91.96131418,\n",
       "         92.02262263,   92.0832839 ,   92.14378596,   92.20392191,\n",
       "         92.26345134,   92.32230736,   92.38081029,   92.43913239,\n",
       "         92.49663022,   92.55389079,   92.61083066,   92.66743886,\n",
       "         92.72367479,   92.77887891,   92.83360556,   92.8881556 ,\n",
       "         92.94241212,   92.99601721,   93.04872389,   93.10124978,\n",
       "         93.15342243,   93.20516674,   93.2563305 ,   93.30688253,\n",
       "         93.35706166,   93.40698196,   93.45661911,   93.50572376,\n",
       "         93.55442384,   93.60249372,   93.65033189,   93.6977207 ,\n",
       "         93.74421886,   93.79065027,   93.83622188,   93.88160806,\n",
       "         93.92679293,   93.97182405,   94.01616933,   94.06024119,\n",
       "         94.10385366,   94.14711917,   94.18995514,   94.23208022,\n",
       "         94.27387179,   94.31527703,   94.35661154,   94.39745316,\n",
       "         94.43822806,   94.47848985,   94.51861281,   94.5584112 ,\n",
       "         94.59803977,   94.63745825,   94.67623452,   94.71458365,\n",
       "         94.75282656,   94.79084406,   94.82870948,   94.86593064,\n",
       "         94.9029857 ,   94.9396132 ,   94.97577983,   95.01146743,\n",
       "         95.04708662,   95.08244071,   95.11762474,   95.1524783 ,\n",
       "         95.18688124,   95.22074889,   95.25458411,   95.28836479,\n",
       "         95.32184448,   95.35494052,   95.38773531,   95.42043526,\n",
       "         95.45290302,   95.48515787,   95.51726381,   95.54910877,\n",
       "         95.58070216,   95.61208695,   95.64306228,   95.67389305,\n",
       "         95.70450107,   95.73502089,   95.76519773,   95.79510555,\n",
       "         95.82490758,   95.85425464,   95.88354249,   95.91253975,\n",
       "         95.9413323 ,   95.96989596,   95.99825865,   96.02647644,\n",
       "         96.0544555 ,   96.08238388,   96.11013909,   96.1373443 ,\n",
       "         96.16435962,   96.19107747,   96.21761202,   96.24394705,\n",
       "         96.27017615,   96.29615048,   96.32201733,   96.34762575,\n",
       "         96.37303767,   96.39834233,   96.42339557,   96.44825033,\n",
       "         96.47300587,   96.49769559,   96.52224353,   96.5466138 ,\n",
       "         96.57078758,   96.59473124,   96.61860639,   96.64224475,\n",
       "         96.66583453,   96.689079  ,   96.71214637,   96.73516512,\n",
       "         96.75786689,   96.78053741,   96.80310123,   96.82556688,\n",
       "         96.84776576,   96.86994943,   96.89197937,   96.91378719,\n",
       "         96.93554219,   96.9571202 ,   96.97854738,   96.99988846,\n",
       "         97.02099332,   97.04193376,   97.06281489,   97.08358343,\n",
       "         97.10419773,   97.12472149,   97.14504846,   97.1653383 ,\n",
       "         97.18540255,   97.20544057,   97.22526199,   97.24491292,\n",
       "         97.26442986,   97.28385473,   97.30322894,   97.32241919,\n",
       "         97.34150547,   97.36052255,   97.37945275,   97.39826597,\n",
       "         97.41695689,   97.43533544,   97.45362106,   97.47171217,\n",
       "         97.48966103,   97.50749215,   97.52526136,   97.54284178,\n",
       "         97.56034805,   97.57780164,   97.59511616,   97.61230092,\n",
       "         97.62933783,   97.64635197,   97.66329425,   97.68006023,\n",
       "         97.69677137,   97.71342553,   97.7300026 ,   97.74649224,\n",
       "         97.76294339,   97.77926982,   97.79546817,   97.81152316,\n",
       "         97.82740199,   97.84315088,   97.85879981,   97.8744111 ,\n",
       "         97.88993265,   97.90539313,   97.92067785,   97.93584117,\n",
       "         97.95092845,   97.9658654 ,   97.98072462,   97.99549568,\n",
       "         98.01020036,   98.02479429,   98.03937058,   98.05388904,\n",
       "         98.06829091,   98.08263201,   98.09695691,   98.1112096 ,\n",
       "         98.12538155,   98.13946083,   98.15347024,   98.16743778,\n",
       "         98.18128731,   98.19508227,   98.20882111,   98.22249233,\n",
       "         98.23607505,   98.2495489 ,   98.26298701,   98.27637991,\n",
       "         98.28967393,   98.30287906,   98.31603488,   98.32911332,\n",
       "         98.34210001,   98.35497619,   98.36780633,   98.38060627,\n",
       "         98.393314  ,   98.40599483,   98.41853587,   98.43100476,\n",
       "         98.44343926,   98.45579117,   98.46808701,   98.48036264,\n",
       "         98.4925957 ,   98.50473076,   98.51676924,   98.52873623,\n",
       "         98.54062592,   98.55249237,   98.56431431,   98.57606403,\n",
       "         98.58776429,   98.59932374,   98.61079821,   98.6222166 ,\n",
       "         98.63360152,   98.64494068,   98.65617141,   98.66734564,\n",
       "         98.6784715 ,   98.68952779,   98.70050095,   98.71146041,\n",
       "         98.72230343,   98.73312454,   98.74389909,   98.7546445 ,\n",
       "         98.76532426,   98.7759644 ,   98.78654808,   98.79707494,\n",
       "         98.80753582,   98.81794142,   98.82833419,   98.83867784,\n",
       "         98.84897039,   98.85917624,   98.86930869,   98.87938523,\n",
       "         98.88942787,   98.89938011,   98.90931022,   98.91921831,\n",
       "         98.92902289,   98.93881521,   98.94857152,   98.95827789,\n",
       "         98.96797355,   98.97761058,   98.98715294,   98.99667403,\n",
       "         99.00614213,   99.01552165,   99.0248368 ,   99.03410463,\n",
       "         99.04336818,   99.0525333 ,   99.06164359,   99.0707074 ,\n",
       "         99.07974218,   99.08873928,   99.09771372,   99.10662758,\n",
       "         99.11546117,   99.12426107,   99.13301617,   99.14166817,\n",
       "         99.15029031,   99.15886442,   99.16740933,   99.1759312 ,\n",
       "         99.18439014,   99.19277982,   99.20114601,   99.20946107,\n",
       "         99.21770162,   99.22588674,   99.23402605,   99.24212139,\n",
       "         99.25017927,   99.2581472 ,   99.26606368,   99.27395221,\n",
       "         99.28182307,   99.2896535 ,   99.29744118,   99.30522646,\n",
       "         99.31297975,   99.32063858,   99.3282088 ,   99.33577297,\n",
       "         99.34329899,   99.35077352,   99.35820883,   99.36557782,\n",
       "         99.37294448,   99.38027855,   99.38754238,   99.39478687,\n",
       "         99.40200641,   99.40917653,   99.41627163,   99.4233502 ,\n",
       "         99.43036684,   99.43733401,   99.44429189,   99.45123419,\n",
       "         99.45811963,   99.46496219,   99.47175115,   99.47851509,\n",
       "         99.48523751,   99.49195415,   99.49862328,   99.5052567 ,\n",
       "         99.51185516,   99.51842016,   99.52492879,   99.53137463,\n",
       "         99.5377966 ,   99.54418672,   99.55055933,   99.55691552,\n",
       "         99.56320124,   99.56945173,   99.57567957,   99.58185667,\n",
       "         99.58801479,   99.59414607,   99.60023635,   99.60627111,\n",
       "         99.61229301,   99.61829538,   99.6242293 ,   99.6301158 ,\n",
       "         99.63595124,   99.64176337,   99.64752064,   99.65323086,\n",
       "         99.65891493,   99.6645906 ,   99.6702428 ,   99.67585928,\n",
       "         99.68144664,   99.68701779,   99.69256187,   99.69803427,\n",
       "         99.7034498 ,   99.70886456,   99.7142167 ,   99.71955331,\n",
       "         99.72483596,   99.73011669,   99.73536562,   99.74057881,\n",
       "         99.74576853,   99.75091628,   99.75603405,   99.76108993,\n",
       "         99.76611349,   99.7711082 ,   99.77606433,   99.78098221,\n",
       "         99.78587927,   99.79074142,   99.79558099,   99.80040319,\n",
       "         99.80517159,   99.80985923,   99.81452133,   99.81916305,\n",
       "         99.82376818,   99.82834016,   99.83286371,   99.83736203,\n",
       "         99.84184577,   99.84629977,   99.85072479,   99.85509285,\n",
       "         99.85943127,   99.8637459 ,   99.86802183,   99.87223535,\n",
       "         99.87640792,   99.88054652,   99.88466259,   99.8887297 ,\n",
       "         99.8927731 ,   99.89679118,   99.90076802,   99.90469222,\n",
       "         99.90859779,   99.91246763,   99.91629287,   99.92009091,\n",
       "         99.92387684,   99.9276269 ,   99.93135405,   99.93502755,\n",
       "         99.9386531 ,   99.94223609,   99.94580469,   99.94930948,\n",
       "         99.95276806,   99.95619385,   99.95959147,   99.96295054,\n",
       "         99.96626424,   99.9695616 ,   99.97283274,   99.97605406,\n",
       "         99.97916482,   99.9821883 ,   99.98517711,   99.98811176,\n",
       "         99.99095644,   99.99357638,   99.99612356,   99.99778403,\n",
       "         99.99897858,   99.99965   ,   99.99991563,  100.        ,\n",
       "        100.        ,  100.        ,  100.        ,  100.        ,\n",
       "        100.        ,  100.        ,  100.        ,  100.        ,\n",
       "        100.        ,  100.        ,  100.        ,  100.        ,\n",
       "        100.        ,  100.        ,  100.        ,  100.        ,\n",
       "        100.        ,  100.        ,  100.        ,  100.        ,\n",
       "        100.        ,  100.        ,  100.        ,  100.        ,\n",
       "        100.        ,  100.        ,  100.        ,  100.        ,\n",
       "        100.        ,  100.        ,  100.        ,  100.        ,\n",
       "        100.        ,  100.        ,  100.        ,  100.        ,\n",
       "        100.        ,  100.        ,  100.        ,  100.        ,\n",
       "        100.        ,  100.        ,  100.        ,  100.        ,\n",
       "        100.        ,  100.        ,  100.        ,  100.        ,\n",
       "        100.        ,  100.        ,  100.        ,  100.        ,\n",
       "        100.        ,  100.        ,  100.        ,  100.        ,\n",
       "        100.        ,  100.        ,  100.        ,  100.        ,\n",
       "        100.        ,  100.        ,  100.        ,  100.        ,\n",
       "        100.        ,  100.        ,  100.        ,  100.        ,\n",
       "        100.        ,  100.        ,  100.        ,  100.        ,\n",
       "        100.        ,  100.        ,  100.        ,  100.        ,\n",
       "        100.        ,  100.        ,  100.        ,  100.        ])"
      ]
     },
     "execution_count": 16,
     "metadata": {},
     "output_type": "execute_result"
    }
   ],
   "source": [
    "cum_sum=np.cumsum(var_exp)\n",
    "cum_sum"
   ]
  },
  {
   "cell_type": "code",
   "execution_count": 17,
   "metadata": {
    "collapsed": false,
    "deletable": true,
    "editable": true
   },
   "outputs": [
    {
     "data": {
      "text/html": [
       "<script>requirejs.config({paths: { 'plotly': ['https://cdn.plot.ly/plotly-latest.min']},});if(!window.Plotly) {{require(['plotly'],function(plotly) {window.Plotly=plotly;});}}</script>"
      ],
      "text/plain": [
       "<IPython.core.display.HTML object>"
      ]
     },
     "metadata": {},
     "output_type": "display_data"
    }
   ],
   "source": [
    "import plotly.offline as py\n",
    "py.init_notebook_mode(connected=True)\n",
    "import plotly.graph_objs as go\n",
    "import plotly.tools as tls\n",
    "import matplotlib.image as mpimg"
   ]
  },
  {
   "cell_type": "code",
   "execution_count": null,
   "metadata": {
    "collapsed": false,
    "deletable": true,
    "editable": true
   },
   "outputs": [],
   "source": [
    "trace1 = go.Scatter(\n",
    "    x=list(range(784)),\n",
    "    y= cum_sum,\n",
    "    mode='lines+markers',\n",
    "    name=\"'Cumulative Explained Variance'\",\n",
    "    hoverinfo= cum_sum,\n",
    "    line=dict(\n",
    "        shape='spline',\n",
    "        color = 'blue'\n",
    "    )\n",
    ")\n",
    "trace2 = go.Scatter(\n",
    "    x=list(range(784)),\n",
    "    y= var_exp,\n",
    "    mode='lines+markers',\n",
    "    name=\"'Individual Explained Variance'\",\n",
    "    hoverinfo= var_exp,\n",
    "    line=dict(\n",
    "        shape='linear',\n",
    "        color = 'black'\n",
    "    )\n",
    ")\n",
    "fig = tls.make_subplots(insets=[{'cell': (1,1), 'l': 0.7, 'b': 0.5}],\n",
    "                          print_grid=True)\n",
    "\n",
    "fig.append_trace(trace1, 1, 1)\n",
    "fig.append_trace(trace2,1,1)\n",
    "fig.layout.title = 'Explained Variance plots - Full and Zoomed-in'\n",
    "fig.layout.xaxis = dict(range=[0, 80], title = 'Feature columns')\n",
    "fig.layout.yaxis = dict(range=[0, 60], title = 'Explained Variance')\n",
    "fig['data'] += [go.Scatter(x= list(range(784)) , y=cum_sum, xaxis='x2', yaxis='y2', name = 'Cumulative Explained Variance')]\n",
    "fig['data'] += [go.Scatter(x=list(range(784)), y=var_exp, xaxis='x2', yaxis='y2',name = 'Individual Explained Variance')]\n",
    "\n",
    "# fig['data'] = data\n",
    "# fig['layout'] = layout\n",
    "# fig['data'] += data2\n",
    "# fig['layout'] += layout2\n",
    "py.iplot(fig, filename='inset example')"
   ]
  },
  {
   "cell_type": "code",
   "execution_count": 18,
   "metadata": {
    "collapsed": false,
    "deletable": true,
    "editable": true
   },
   "outputs": [],
   "source": [
    "n_components = 30\n",
    "pca = PCA(n_components=n_components).fit(Digits_Train.values)\n",
    "\n",
    "eigenvalues = pca.components_.reshape(n_components, 28, 28)\n",
    "\n",
    "# Extracting the PCA components ( eignevalues )\n",
    "#eigenvalues = pca.components_.reshape(n_components, 28, 28)\n",
    "eigenvalues1 = pca.components_"
   ]
  },
  {
   "cell_type": "code",
   "execution_count": 19,
   "metadata": {
    "collapsed": false,
    "deletable": true,
    "editable": true
   },
   "outputs": [
    {
     "ename": "TypeError",
     "evalue": "'PCA' object is not subscriptable",
     "output_type": "error",
     "traceback": [
      "\u001b[1;31m---------------------------------------------------------------------------\u001b[0m",
      "\u001b[1;31mTypeError\u001b[0m                                 Traceback (most recent call last)",
      "\u001b[1;32m<ipython-input-19-02d35c424027>\u001b[0m in \u001b[0;36m<module>\u001b[1;34m()\u001b[0m\n\u001b[0;32m      1\u001b[0m \u001b[0mcol_names\u001b[0m \u001b[1;33m=\u001b[0m \u001b[1;33m[\u001b[0m \u001b[1;34m'pc'\u001b[0m\u001b[1;33m+\u001b[0m\u001b[0mstr\u001b[0m\u001b[1;33m(\u001b[0m\u001b[0mi\u001b[0m\u001b[1;33m)\u001b[0m \u001b[1;32mfor\u001b[0m \u001b[0mi\u001b[0m \u001b[1;32min\u001b[0m \u001b[0mrange\u001b[0m\u001b[1;33m(\u001b[0m\u001b[1;36m0\u001b[0m\u001b[1;33m,\u001b[0m\u001b[1;36m30\u001b[0m\u001b[1;33m)\u001b[0m \u001b[1;33m]\u001b[0m\u001b[1;33m\u001b[0m\u001b[0m\n\u001b[1;32m----> 2\u001b[1;33m \u001b[0mprincipalDf\u001b[0m \u001b[1;33m=\u001b[0m \u001b[0mpd\u001b[0m\u001b[1;33m.\u001b[0m\u001b[0mDataFrame\u001b[0m\u001b[1;33m(\u001b[0m\u001b[0mpca\u001b[0m\u001b[1;33m[\u001b[0m\u001b[1;33m:\u001b[0m\u001b[1;33m,\u001b[0m\u001b[1;33m]\u001b[0m\u001b[1;33m,\u001b[0m \u001b[0mcolumns\u001b[0m \u001b[1;33m=\u001b[0m \u001b[0mcol_names\u001b[0m\u001b[1;33m)\u001b[0m\u001b[1;33m\u001b[0m\u001b[0m\n\u001b[0m\u001b[0;32m      3\u001b[0m \u001b[0mprint\u001b[0m\u001b[1;33m(\u001b[0m\u001b[0mprincipalDf\u001b[0m\u001b[1;33m)\u001b[0m\u001b[1;33m\u001b[0m\u001b[0m\n",
      "\u001b[1;31mTypeError\u001b[0m: 'PCA' object is not subscriptable"
     ]
    }
   ],
   "source": [
    "col_names = [ 'pc'+str(i) for i in range(0,30) ]\n",
    "principalDf = pd.DataFrame(pca[:,], columns = col_names)\n",
    "print(principalDf)"
   ]
  },
  {
   "cell_type": "code",
   "execution_count": null,
   "metadata": {
    "collapsed": false,
    "deletable": true,
    "editable": true
   },
   "outputs": [],
   "source": [
    "##Plot to show the amount of information preservered in each of the principal component\n",
    "n_row = 5\n",
    "n_col = 6\n",
    "\n",
    "# Plot the first 8 eignenvalues\n",
    "plt.figure(figsize=(13,12))\n",
    "for i in (range(0,30)):\n",
    "#     for offset in [10, 30,0]:\n",
    "#     plt.subplot(n_row, n_col, i + 1)\n",
    "    offset =0\n",
    "    plt.subplot(n_row, n_col, i + 1)\n",
    "    plt.imshow(eigenvalues1[i].reshape(28,28), cmap='jet')\n",
    "    title_text = 'Eigenvalue ' + str(i + 1)\n",
    "    plt.title(title_text, size=6.5)\n",
    "    plt.xticks(())\n",
    "    plt.yticks(())\n",
    "plt.show()"
   ]
  },
  {
   "cell_type": "markdown",
   "metadata": {
    "deletable": true,
    "editable": true
   },
   "source": [
    "##Plot showing the original numbers reshaped to 28*28\n",
    "plt.figure(figsize=(14,12))\n",
    "for digit_num in range(0,70):\n",
    "    plt.subplot(7,10,digit_num+1)\n",
    "    grid_data = Digits_Train.iloc[digit_num].as_matrix().reshape(28,28)  # reshape from 1d to 2d pixel array\n",
    "    plt.imshow(grid_data, interpolation = \"none\", cmap = \"jet\")\n",
    "    plt.xticks([])\n",
    "    plt.yticks([])\n",
    "plt.tight_layout()"
   ]
  },
  {
   "cell_type": "markdown",
   "metadata": {
    "deletable": true,
    "editable": true
   },
   "source": [
    "We now have our dataframe. Lets first check what these numbers actually look like by reconstructing the images. To do this we’ll generate 30 plots of randomly selected images."
   ]
  },
  {
   "cell_type": "markdown",
   "metadata": {
    "collapsed": true,
    "deletable": true,
    "editable": true
   },
   "source": [
    "rndperm = np.random.permutation(Digits_Train.shape[0])"
   ]
  },
  {
   "cell_type": "code",
   "execution_count": 22,
   "metadata": {
    "collapsed": false,
    "deletable": true,
    "editable": true
   },
   "outputs": [
    {
     "name": "stdout",
     "output_type": "stream",
     "text": [
      "Frequency of y_sample_data:\n",
      "[[  0   1   2   3   4   5   6   7   8   9]\n",
      " [100 100 100 100 100 100 100 100 100 100]]\n"
     ]
    }
   ],
   "source": [
    "## Group the observations by target\n",
    "grouped = Digits_Train1.groupby(\"label\")\n",
    "\n",
    "## Sample 100 point from each class total 1000 points\n",
    "q = grouped.apply(lambda x: x.sample(n = 100))\n",
    "y_sample_data = q[\"label\"]\n",
    "x_sample_data = q.drop([\"label\"], axis = 1)\n",
    "\n",
    "## Return number of classes and count of samples drawn from each class \n",
    "unique_elements, counts_elements = np.unique(y_sample_data, return_counts = True)\n",
    "print(\"Frequency of y_sample_data:\") \n",
    "print(np.asarray((unique_elements, counts_elements)))"
   ]
  },
  {
   "cell_type": "markdown",
   "metadata": {
    "deletable": true,
    "editable": true
   },
   "source": [
    "### Covariance Matrix\n",
    "In probability theory and statistics, a covariance matrix (also known as dispersion matrix or variance–covariance matrix) is a matrix whose element in the i, j position is the covariance between the i th and j th elements of a random vector\n",
    "\n",
    "The classic approach to PCA is to perform the eigendecomposition on the covariance matrix $\\Sigma$, which is a $d \\times d$ matrix where each element represents the covariance between two features. The covariance between two features is calculated as follows:\n",
    "\n",
    "$\\sigma_{jk} = \\frac{1}{n-1}\\sum_{i=1}^{N}\\left(  x_{ij}-\\bar{x}_j \\right)  \\left( x_{ik}-\\bar{x}_k \\right).$\n",
    "\n",
    "We can summarize the calculation of the covariance matrix via the following matrix equation:   \n",
    "$\\Sigma = \\frac{1}{n-1} \\left( (\\mathbf{X} - \\mathbf{\\bar{x}})^T\\;(\\mathbf{X} - \\mathbf{\\bar{x}}) \\right)$  \n",
    "where $\\mathbf{\\bar{x}}$ is the mean vector \n",
    "$\\mathbf{\\bar{x}} = \\sum\\limits_{i=1}^n x_{i}.$  \n",
    "The mean vector is a $d$-dimensional vector where each value in this vector represents the sample mean of a feature column in the dataset."
   ]
  },
  {
   "cell_type": "markdown",
   "metadata": {
    "deletable": true,
    "editable": true
   },
   "source": [
    "### Eigen Value and Eigen Vectors\n",
    "In linear algebra, an eigenvector or characteristic vector of a linear transformation is a non-zero vector that only changes by a scalar factor, when that linear transformation is applied to it. More formally, if T is a linear transformation from a vector space V over a field F into itself and v is a vector in V that is not the zero vector, then v is an eigenvector of T if T(v) is a scalar multiple of v. This condition can be written as the equation\n",
    "\n",
    "\\begin{equation*}\n",
    "T(V)   = \\lambda \\mathbf {v}\n",
    "\\end{equation*}\n",
    "\n",
    "where λ is a scalar in the field F, known as the eigenvalue, characteristic value, or characteristic root associated with the eigenvector v."
   ]
  },
  {
   "cell_type": "code",
   "execution_count": 23,
   "metadata": {
    "collapsed": false,
    "deletable": true,
    "editable": true
   },
   "outputs": [],
   "source": [
    "#from sklearn.preprocessing import StandardScaler\n",
    "pca = PCA(n_components=30)\n",
    "pca.fit(x_sample_data)\n",
    "X_30d = pca.transform(x_sample_data)\n",
    "\n",
    "\n",
    "# Fit on training set only.\n",
    "#scaler.fit(Digits_T)\n",
    "#scaler.fit(Digits_Test)\n",
    "# Apply transform to both the training set and the test set.\n",
    "#Digits_T1 = scaler.transform(Digits_T)\n",
    "#Digits_Test = scaler.transform(Digits_Test)"
   ]
  },
  {
   "cell_type": "code",
   "execution_count": 25,
   "metadata": {
    "collapsed": false,
    "deletable": true,
    "editable": true
   },
   "outputs": [],
   "source": [
    "scaler = StandardScaler()\n",
    "x_std = scaler.fit_transform(x_sample_data)\n",
    "pca = PCA(n_components=30)\n",
    "pca.fit(x_std)\n",
    "X_30d_s = pca.transform(x_std)"
   ]
  },
  {
   "cell_type": "code",
   "execution_count": null,
   "metadata": {
    "collapsed": false,
    "deletable": true,
    "editable": true
   },
   "outputs": [],
   "source": [
    "trace0 = go.Scatter(\n",
    "    x = X_30d[:,0],\n",
    "    y = X_30d[:,1],\n",
    "    name = y_sample_data,\n",
    "    hoveron = y_sample_data,\n",
    "    mode = 'markers',\n",
    "    text = y_sample_data,\n",
    "    showlegend = True,\n",
    "    marker = dict(\n",
    "        size = 8,\n",
    "        color = y_sample_data,\n",
    "        colorscale ='Jet',\n",
    "        showscale = False,\n",
    "        line = dict(\n",
    "            width = 2,\n",
    "            color = 'rgb(255, 255, 255)'\n",
    "        ),\n",
    "        opacity = 0.8\n",
    "    )\n",
    ")\n",
    "data = [trace0]\n",
    "\n",
    "\n",
    "trace1 = go.Scatter(\n",
    "    x = X_30d_s[:,0],\n",
    "    y = X_30d_s[:,1],\n",
    "    name = y_sample_data,\n",
    "    hoveron = y_sample_data,\n",
    "    mode = 'markers',\n",
    "    text = y_sample_data,\n",
    "    showlegend = True,\n",
    "    marker = dict(\n",
    "        size = 8,\n",
    "        color = y_sample_data,\n",
    "        colorscale ='Jet',\n",
    "        showscale = False,\n",
    "        line = dict(\n",
    "            width = 2,\n",
    "            color = 'rgb(255, 255, 255)'\n",
    "        ),\n",
    "        opacity = 0.8\n",
    "    )\n",
    ")\n",
    "data1 = [trace1]\n",
    "\n",
    "layout = go.Layout(\n",
    "    title= 'Principal Component Analysis (PCA)',\n",
    "    hovermode= 'closest',\n",
    "    xaxis= dict(\n",
    "         title= 'First Principal Component',\n",
    "        ticklen= 5,\n",
    "        zeroline= False,\n",
    "        gridwidth= 2,\n",
    "    ),\n",
    "    yaxis=dict(\n",
    "        title= 'Second Principal Component',\n",
    "        ticklen= 5,\n",
    "        gridwidth= 2,\n",
    "    ),\n",
    "    showlegend= True\n",
    ")\n",
    "\n",
    "\n",
    "#fig = dict(data=data, layout=layout)\n",
    "#py.iplot(fig, filename='styled-scatter')\n",
    "\n",
    "fig = tls.make_subplots(rows=1, cols=2,subplot_titles=('Plot Without Scalar', 'Plot with Scalar'))\n",
    "\n",
    "fig.append_trace(trace0, 1, 1)\n",
    "fig.append_trace(trace1, 1, 2)\n",
    "\n",
    "fig['layout'].update(title='comparing Standardized vs non-standardized')\n",
    "py.iplot(fig, filename='simple-subplot')"
   ]
  }
 ],
 "metadata": {
  "kernelspec": {
   "display_name": "Python 3",
   "language": "python",
   "name": "python3"
  },
  "language_info": {
   "codemirror_mode": {
    "name": "ipython",
    "version": 3
   },
   "file_extension": ".py",
   "mimetype": "text/x-python",
   "name": "python",
   "nbconvert_exporter": "python",
   "pygments_lexer": "ipython3",
   "version": "3.5.2"
  }
 },
 "nbformat": 4,
 "nbformat_minor": 2
}
