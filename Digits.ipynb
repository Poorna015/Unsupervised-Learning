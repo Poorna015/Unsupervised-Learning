{
 "cells": [
  {
   "cell_type": "markdown",
   "metadata": {
    "deletable": true,
    "editable": true
   },
   "source": [
    "# Principle Component Analysis\n",
    "\n",
    "### What is PCA?\n",
    "\n",
    "### Know About Dataset - MNIST\n",
    "The MNIST database of handwritten digits, available from this web page (http://yann.lecun.com/exdb/mnist/), has a training set of 60,000 examples, and a test set of 10,000 examples. It is a subset of a larger set available from NIST (National Institute of Standards and Technology). The digits have been size-normalized and centered in a fixed-size image.\n",
    "\n",
    "It is a good database for people who want to try learning techniques and pattern recognition methods on real-world data while spending minimal efforts on preprocessing and formatting.\n",
    "\n",
    "The dataset consists of pair, “handwritten digit image” and “label”. Digit ranges from 0 to 9, meaning 10 patterns in total.\n",
    "\n",
    "* handwritten digit image: This is gray scale image with size 28 x 28 pixel.\n",
    "* label : This is actual digit number this handwritten digit image represents. It is either  0 to 9.\n",
    "\n",
    "Either one can download the data from above or use the fetch_mldata from sklearn.datasets.mldata. We will use the second approach"
   ]
  },
  {
   "cell_type": "markdown",
   "metadata": {
    "deletable": true,
    "editable": true
   },
   "source": [
    "### Import Libraries"
   ]
  },
  {
   "cell_type": "code",
   "execution_count": 1,
   "metadata": {
    "collapsed": false,
    "deletable": true,
    "editable": true
   },
   "outputs": [
    {
     "name": "stdout",
     "output_type": "stream",
     "text": [
      "c:\\users\\gorapalp\\desktop\\cba\\dmg\\digits\n"
     ]
    }
   ],
   "source": [
    "cd C:\\Users\\gorapalp\\Desktop\\CBA\\DMG\\Digits"
   ]
  },
  {
   "cell_type": "code",
   "execution_count": 2,
   "metadata": {
    "collapsed": true,
    "deletable": true,
    "editable": true
   },
   "outputs": [],
   "source": [
    "import seaborn as sns\n",
    "import matplotlib.image as mpimg\n",
    "import matplotlib.pyplot as plt\n",
    "import matplotlib\n",
    "%matplotlib inline\n",
    "\n",
    "import numpy as np\n",
    "from numpy import linalg as LA\n",
    "from numpy import arange\n",
    "import pandas as pd\n",
    "\n",
    "import sklearn\n",
    "from sklearn.datasets.mldata import fetch_mldata\n",
    "from sklearn.preprocessing import scale\n",
    "from sklearn.decomposition import PCA"
   ]
  },
  {
   "cell_type": "markdown",
   "metadata": {
    "deletable": true,
    "editable": true
   },
   "source": [
    "### Data Loading and Plotting"
   ]
  },
  {
   "cell_type": "code",
   "execution_count": 6,
   "metadata": {
    "collapsed": false,
    "deletable": true,
    "editable": true,
    "scrolled": true
   },
   "outputs": [],
   "source": [
    "## Loading MNIST Data\n",
    "#Digits_Test = pd.read_csv('C:/Users/gorapalp/Desktop/CBA/DMG/Digits/Digitstest.csv',sep=',',header = 'infer')\n",
    "Digits_Train = pd.read_csv('C:/Users/gorapalp/Desktop/CBA/DMG/Digits/Digitstrain.csv',sep=',',header = 'infer')\n",
    "\n",
    "#Digits_Test1 = pd.read_csv('C:/Users/gorapalp/Desktop/CBA/DMG/Digits/Digitstest.csv',sep=',',header = 'infer')\n",
    "Digits_Train1 = pd.read_csv('C:/Users/gorapalp/Desktop/CBA/DMG/Digits/Digitstrain.csv',sep=',',header = 'infer')\n",
    "#mnist = fetch_mldata('MNIST original', data_home=\"Python\")\n",
    "\n",
    "# In general, it’s a good idea to standardize the data for your problem \n",
    "# so that each dimension has approximately the same scale\n",
    "#X = mnist.data / 255.0\n",
    "#Y = mnist.target\n",
    "\n",
    "#print(X.shape, Y.shape )"
   ]
  },
  {
   "cell_type": "code",
   "execution_count": 7,
   "metadata": {
    "collapsed": false,
    "deletable": true,
    "editable": true
   },
   "outputs": [
    {
     "data": {
      "text/plain": [
       "Index(['label', 'pixel0', 'pixel1', 'pixel2', 'pixel3', 'pixel4', 'pixel5',\n",
       "       'pixel6', 'pixel7', 'pixel8',\n",
       "       ...\n",
       "       'pixel774', 'pixel775', 'pixel776', 'pixel777', 'pixel778', 'pixel779',\n",
       "       'pixel780', 'pixel781', 'pixel782', 'pixel783'],\n",
       "      dtype='object', length=785)"
      ]
     },
     "execution_count": 7,
     "metadata": {},
     "output_type": "execute_result"
    }
   ],
   "source": [
    "#mnist\n",
    "#mnist.keys()\n",
    "Digits_Train.keys()"
   ]
  },
  {
   "cell_type": "code",
   "execution_count": 9,
   "metadata": {
    "collapsed": false,
    "deletable": true,
    "editable": true
   },
   "outputs": [
    {
     "data": {
      "text/plain": [
       "0        1\n",
       "1        0\n",
       "2        1\n",
       "3        4\n",
       "4        0\n",
       "5        0\n",
       "6        7\n",
       "7        3\n",
       "8        5\n",
       "9        3\n",
       "10       8\n",
       "11       9\n",
       "12       1\n",
       "13       3\n",
       "14       3\n",
       "15       1\n",
       "16       2\n",
       "17       0\n",
       "18       7\n",
       "19       5\n",
       "20       8\n",
       "21       6\n",
       "22       2\n",
       "23       0\n",
       "24       2\n",
       "25       3\n",
       "26       6\n",
       "27       9\n",
       "28       9\n",
       "29       7\n",
       "        ..\n",
       "41970    2\n",
       "41971    3\n",
       "41972    4\n",
       "41973    4\n",
       "41974    3\n",
       "41975    9\n",
       "41976    2\n",
       "41977    4\n",
       "41978    4\n",
       "41979    4\n",
       "41980    7\n",
       "41981    2\n",
       "41982    8\n",
       "41983    7\n",
       "41984    3\n",
       "41985    3\n",
       "41986    0\n",
       "41987    5\n",
       "41988    0\n",
       "41989    5\n",
       "41990    3\n",
       "41991    1\n",
       "41992    9\n",
       "41993    6\n",
       "41994    4\n",
       "41995    0\n",
       "41996    1\n",
       "41997    7\n",
       "41998    6\n",
       "41999    9\n",
       "Name: label, dtype: int64"
      ]
     },
     "execution_count": 9,
     "metadata": {},
     "output_type": "execute_result"
    }
   ],
   "source": [
    "#Similar to target we habe label in the given dataset\n",
    "(Digits_Train.label)\n",
    "#Digits_Train.as_matrix(columns=[Digits_Train.label])"
   ]
  },
  {
   "cell_type": "code",
   "execution_count": 10,
   "metadata": {
    "collapsed": false,
    "deletable": true,
    "editable": true
   },
   "outputs": [
    {
     "data": {
      "text/html": [
       "<div>\n",
       "<table border=\"1\" class=\"dataframe\">\n",
       "  <thead>\n",
       "    <tr style=\"text-align: right;\">\n",
       "      <th></th>\n",
       "      <th>label</th>\n",
       "      <th>pixel0</th>\n",
       "      <th>pixel1</th>\n",
       "      <th>pixel2</th>\n",
       "      <th>pixel3</th>\n",
       "      <th>pixel4</th>\n",
       "      <th>pixel5</th>\n",
       "      <th>pixel6</th>\n",
       "      <th>pixel7</th>\n",
       "      <th>pixel8</th>\n",
       "      <th>...</th>\n",
       "      <th>pixel774</th>\n",
       "      <th>pixel775</th>\n",
       "      <th>pixel776</th>\n",
       "      <th>pixel777</th>\n",
       "      <th>pixel778</th>\n",
       "      <th>pixel779</th>\n",
       "      <th>pixel780</th>\n",
       "      <th>pixel781</th>\n",
       "      <th>pixel782</th>\n",
       "      <th>pixel783</th>\n",
       "    </tr>\n",
       "  </thead>\n",
       "  <tbody>\n",
       "    <tr>\n",
       "      <th>0</th>\n",
       "      <td>1</td>\n",
       "      <td>0</td>\n",
       "      <td>0</td>\n",
       "      <td>0</td>\n",
       "      <td>0</td>\n",
       "      <td>0</td>\n",
       "      <td>0</td>\n",
       "      <td>0</td>\n",
       "      <td>0</td>\n",
       "      <td>0</td>\n",
       "      <td>...</td>\n",
       "      <td>0</td>\n",
       "      <td>0</td>\n",
       "      <td>0</td>\n",
       "      <td>0</td>\n",
       "      <td>0</td>\n",
       "      <td>0</td>\n",
       "      <td>0</td>\n",
       "      <td>0</td>\n",
       "      <td>0</td>\n",
       "      <td>0</td>\n",
       "    </tr>\n",
       "    <tr>\n",
       "      <th>1</th>\n",
       "      <td>0</td>\n",
       "      <td>0</td>\n",
       "      <td>0</td>\n",
       "      <td>0</td>\n",
       "      <td>0</td>\n",
       "      <td>0</td>\n",
       "      <td>0</td>\n",
       "      <td>0</td>\n",
       "      <td>0</td>\n",
       "      <td>0</td>\n",
       "      <td>...</td>\n",
       "      <td>0</td>\n",
       "      <td>0</td>\n",
       "      <td>0</td>\n",
       "      <td>0</td>\n",
       "      <td>0</td>\n",
       "      <td>0</td>\n",
       "      <td>0</td>\n",
       "      <td>0</td>\n",
       "      <td>0</td>\n",
       "      <td>0</td>\n",
       "    </tr>\n",
       "    <tr>\n",
       "      <th>2</th>\n",
       "      <td>1</td>\n",
       "      <td>0</td>\n",
       "      <td>0</td>\n",
       "      <td>0</td>\n",
       "      <td>0</td>\n",
       "      <td>0</td>\n",
       "      <td>0</td>\n",
       "      <td>0</td>\n",
       "      <td>0</td>\n",
       "      <td>0</td>\n",
       "      <td>...</td>\n",
       "      <td>0</td>\n",
       "      <td>0</td>\n",
       "      <td>0</td>\n",
       "      <td>0</td>\n",
       "      <td>0</td>\n",
       "      <td>0</td>\n",
       "      <td>0</td>\n",
       "      <td>0</td>\n",
       "      <td>0</td>\n",
       "      <td>0</td>\n",
       "    </tr>\n",
       "    <tr>\n",
       "      <th>3</th>\n",
       "      <td>4</td>\n",
       "      <td>0</td>\n",
       "      <td>0</td>\n",
       "      <td>0</td>\n",
       "      <td>0</td>\n",
       "      <td>0</td>\n",
       "      <td>0</td>\n",
       "      <td>0</td>\n",
       "      <td>0</td>\n",
       "      <td>0</td>\n",
       "      <td>...</td>\n",
       "      <td>0</td>\n",
       "      <td>0</td>\n",
       "      <td>0</td>\n",
       "      <td>0</td>\n",
       "      <td>0</td>\n",
       "      <td>0</td>\n",
       "      <td>0</td>\n",
       "      <td>0</td>\n",
       "      <td>0</td>\n",
       "      <td>0</td>\n",
       "    </tr>\n",
       "    <tr>\n",
       "      <th>4</th>\n",
       "      <td>0</td>\n",
       "      <td>0</td>\n",
       "      <td>0</td>\n",
       "      <td>0</td>\n",
       "      <td>0</td>\n",
       "      <td>0</td>\n",
       "      <td>0</td>\n",
       "      <td>0</td>\n",
       "      <td>0</td>\n",
       "      <td>0</td>\n",
       "      <td>...</td>\n",
       "      <td>0</td>\n",
       "      <td>0</td>\n",
       "      <td>0</td>\n",
       "      <td>0</td>\n",
       "      <td>0</td>\n",
       "      <td>0</td>\n",
       "      <td>0</td>\n",
       "      <td>0</td>\n",
       "      <td>0</td>\n",
       "      <td>0</td>\n",
       "    </tr>\n",
       "    <tr>\n",
       "      <th>5</th>\n",
       "      <td>0</td>\n",
       "      <td>0</td>\n",
       "      <td>0</td>\n",
       "      <td>0</td>\n",
       "      <td>0</td>\n",
       "      <td>0</td>\n",
       "      <td>0</td>\n",
       "      <td>0</td>\n",
       "      <td>0</td>\n",
       "      <td>0</td>\n",
       "      <td>...</td>\n",
       "      <td>0</td>\n",
       "      <td>0</td>\n",
       "      <td>0</td>\n",
       "      <td>0</td>\n",
       "      <td>0</td>\n",
       "      <td>0</td>\n",
       "      <td>0</td>\n",
       "      <td>0</td>\n",
       "      <td>0</td>\n",
       "      <td>0</td>\n",
       "    </tr>\n",
       "    <tr>\n",
       "      <th>6</th>\n",
       "      <td>7</td>\n",
       "      <td>0</td>\n",
       "      <td>0</td>\n",
       "      <td>0</td>\n",
       "      <td>0</td>\n",
       "      <td>0</td>\n",
       "      <td>0</td>\n",
       "      <td>0</td>\n",
       "      <td>0</td>\n",
       "      <td>0</td>\n",
       "      <td>...</td>\n",
       "      <td>0</td>\n",
       "      <td>0</td>\n",
       "      <td>0</td>\n",
       "      <td>0</td>\n",
       "      <td>0</td>\n",
       "      <td>0</td>\n",
       "      <td>0</td>\n",
       "      <td>0</td>\n",
       "      <td>0</td>\n",
       "      <td>0</td>\n",
       "    </tr>\n",
       "    <tr>\n",
       "      <th>7</th>\n",
       "      <td>3</td>\n",
       "      <td>0</td>\n",
       "      <td>0</td>\n",
       "      <td>0</td>\n",
       "      <td>0</td>\n",
       "      <td>0</td>\n",
       "      <td>0</td>\n",
       "      <td>0</td>\n",
       "      <td>0</td>\n",
       "      <td>0</td>\n",
       "      <td>...</td>\n",
       "      <td>0</td>\n",
       "      <td>0</td>\n",
       "      <td>0</td>\n",
       "      <td>0</td>\n",
       "      <td>0</td>\n",
       "      <td>0</td>\n",
       "      <td>0</td>\n",
       "      <td>0</td>\n",
       "      <td>0</td>\n",
       "      <td>0</td>\n",
       "    </tr>\n",
       "    <tr>\n",
       "      <th>8</th>\n",
       "      <td>5</td>\n",
       "      <td>0</td>\n",
       "      <td>0</td>\n",
       "      <td>0</td>\n",
       "      <td>0</td>\n",
       "      <td>0</td>\n",
       "      <td>0</td>\n",
       "      <td>0</td>\n",
       "      <td>0</td>\n",
       "      <td>0</td>\n",
       "      <td>...</td>\n",
       "      <td>0</td>\n",
       "      <td>0</td>\n",
       "      <td>0</td>\n",
       "      <td>0</td>\n",
       "      <td>0</td>\n",
       "      <td>0</td>\n",
       "      <td>0</td>\n",
       "      <td>0</td>\n",
       "      <td>0</td>\n",
       "      <td>0</td>\n",
       "    </tr>\n",
       "    <tr>\n",
       "      <th>9</th>\n",
       "      <td>3</td>\n",
       "      <td>0</td>\n",
       "      <td>0</td>\n",
       "      <td>0</td>\n",
       "      <td>0</td>\n",
       "      <td>0</td>\n",
       "      <td>0</td>\n",
       "      <td>0</td>\n",
       "      <td>0</td>\n",
       "      <td>0</td>\n",
       "      <td>...</td>\n",
       "      <td>0</td>\n",
       "      <td>0</td>\n",
       "      <td>0</td>\n",
       "      <td>0</td>\n",
       "      <td>0</td>\n",
       "      <td>0</td>\n",
       "      <td>0</td>\n",
       "      <td>0</td>\n",
       "      <td>0</td>\n",
       "      <td>0</td>\n",
       "    </tr>\n",
       "  </tbody>\n",
       "</table>\n",
       "<p>10 rows × 785 columns</p>\n",
       "</div>"
      ],
      "text/plain": [
       "   label  pixel0  pixel1  pixel2  pixel3  pixel4  pixel5  pixel6  pixel7  \\\n",
       "0      1       0       0       0       0       0       0       0       0   \n",
       "1      0       0       0       0       0       0       0       0       0   \n",
       "2      1       0       0       0       0       0       0       0       0   \n",
       "3      4       0       0       0       0       0       0       0       0   \n",
       "4      0       0       0       0       0       0       0       0       0   \n",
       "5      0       0       0       0       0       0       0       0       0   \n",
       "6      7       0       0       0       0       0       0       0       0   \n",
       "7      3       0       0       0       0       0       0       0       0   \n",
       "8      5       0       0       0       0       0       0       0       0   \n",
       "9      3       0       0       0       0       0       0       0       0   \n",
       "\n",
       "   pixel8    ...     pixel774  pixel775  pixel776  pixel777  pixel778  \\\n",
       "0       0    ...            0         0         0         0         0   \n",
       "1       0    ...            0         0         0         0         0   \n",
       "2       0    ...            0         0         0         0         0   \n",
       "3       0    ...            0         0         0         0         0   \n",
       "4       0    ...            0         0         0         0         0   \n",
       "5       0    ...            0         0         0         0         0   \n",
       "6       0    ...            0         0         0         0         0   \n",
       "7       0    ...            0         0         0         0         0   \n",
       "8       0    ...            0         0         0         0         0   \n",
       "9       0    ...            0         0         0         0         0   \n",
       "\n",
       "   pixel779  pixel780  pixel781  pixel782  pixel783  \n",
       "0         0         0         0         0         0  \n",
       "1         0         0         0         0         0  \n",
       "2         0         0         0         0         0  \n",
       "3         0         0         0         0         0  \n",
       "4         0         0         0         0         0  \n",
       "5         0         0         0         0         0  \n",
       "6         0         0         0         0         0  \n",
       "7         0         0         0         0         0  \n",
       "8         0         0         0         0         0  \n",
       "9         0         0         0         0         0  \n",
       "\n",
       "[10 rows x 785 columns]"
      ]
     },
     "execution_count": 10,
     "metadata": {},
     "output_type": "execute_result"
    }
   ],
   "source": [
    "#col_names = [ 'pixel'+str(i) for i in range(X.shape[1]) ]\n",
    "\n",
    "#mnist_df = pd.DataFrame(X, columns=col_names)\n",
    "#mnist_df['label'] = Y\n",
    "#mnist_df['label'] = mnist_df['label'].apply(lambda i: str(i))\n",
    "\n",
    "## Make X and Y to None\n",
    "#X, Y = None, None\n",
    "\n",
    "#print('Size of the dataframe: {0}'.format(mnist_df.shape))\n",
    "\n",
    "## print top 10 rows of the dataset\n",
    "Digits_Train.head(10)"
   ]
  },
  {
   "cell_type": "code",
   "execution_count": 11,
   "metadata": {
    "collapsed": false,
    "deletable": true,
    "editable": true
   },
   "outputs": [
    {
     "data": {
      "text/plain": [
       "(784,)"
      ]
     },
     "execution_count": 11,
     "metadata": {},
     "output_type": "execute_result"
    }
   ],
   "source": [
    "col_names = Digits_Train.columns.values[1:]\n",
    "#col_names = col_names[1:]\n",
    "col_names.shape"
   ]
  },
  {
   "cell_type": "code",
   "execution_count": 12,
   "metadata": {
    "collapsed": false,
    "deletable": true,
    "editable": true
   },
   "outputs": [
    {
     "data": {
      "text/plain": [
       "(42000, 784)"
      ]
     },
     "execution_count": 12,
     "metadata": {},
     "output_type": "execute_result"
    }
   ],
   "source": [
    "Digits_T = Digits_Train.drop(\"label\",1)\n",
    "Digits_T.shape"
   ]
  },
  {
   "cell_type": "markdown",
   "metadata": {
    "deletable": true,
    "editable": true
   },
   "source": [
    "We now have our dataframe. Lets first check what these numbers actually look like by reconstructing the images. To do this we’ll generate 30 plots of randomly selected images."
   ]
  },
  {
   "cell_type": "markdown",
   "metadata": {
    "collapsed": true,
    "deletable": true,
    "editable": true
   },
   "source": [
    "rndperm = np.random.permutation(Digits_Train.shape[0])"
   ]
  },
  {
   "cell_type": "code",
   "execution_count": null,
   "metadata": {
    "collapsed": false,
    "deletable": true,
    "editable": true
   },
   "outputs": [],
   "source": [
    "rndperm = np.random.permutation(Digits_Train.shape[0])\n",
    "\n",
    "# Plot the graph\n",
    "plt.gray()\n",
    "fig = plt.figure( figsize=(16,7) )\n",
    "for i in range(0,30):\n",
    "    ax = fig.add_subplot(3,10,i+1, title='Digit: ' + str(Digits_Train.loc[rndperm[i],'label']) )\n",
    "    ax.matshow(Digits_Train.loc[rndperm[i],col_names].values.reshape((28,28)).astype(float))\n",
    "\n",
    "plt.show()"
   ]
  },
  {
   "cell_type": "markdown",
   "metadata": {
    "deletable": true,
    "editable": true
   },
   "source": [
    "### Drawing 100 samples per class (Stratified Sampling)\n",
    "we will try to extract 100 random samples for each class / label from the dataset. As our dataset has got 10 classes we will have 1000 observations in new dataset"
   ]
  },
  {
   "cell_type": "code",
   "execution_count": 13,
   "metadata": {
    "collapsed": false,
    "deletable": true,
    "editable": true
   },
   "outputs": [
    {
     "name": "stdout",
     "output_type": "stream",
     "text": [
      "Frequency of y_sample_data:\n",
      "[[  0   1   2   3   4   5   6   7   8   9]\n",
      " [100 100 100 100 100 100 100 100 100 100]]\n"
     ]
    }
   ],
   "source": [
    "## Group the observations by target\n",
    "grouped = Digits_Train.groupby(\"label\")\n",
    "\n",
    "## Sample 100 point from each class total 1000 points\n",
    "q = grouped.apply(lambda x: x.sample(n = 100))\n",
    "y_sample_data = q[\"label\"]\n",
    "x_sample_data = q.drop([\"label\"], axis = 1)\n",
    "\n",
    "## Return number of classes and count of samples drawn from each class \n",
    "unique_elements, counts_elements = np.unique(y_sample_data, return_counts = True)\n",
    "print(\"Frequency of y_sample_data:\") \n",
    "print(np.asarray((unique_elements, counts_elements)))"
   ]
  },
  {
   "cell_type": "code",
   "execution_count": null,
   "metadata": {
    "collapsed": false,
    "deletable": true,
    "editable": true
   },
   "outputs": [],
   "source": [
    "type(x_sample_data)"
   ]
  },
  {
   "cell_type": "markdown",
   "metadata": {
    "deletable": true,
    "editable": true
   },
   "source": [
    "Though we reduced the number of observations, the number of dimesnions remain same from above. Next step is to reduce dimensionality.\n",
    "### How PCA Works?\n",
    "Listed below are the 6 general steps for performing a principal component analysis, which we will investigate in the following sections.\n",
    "* Take the whole dataset consisting of d-dimensional samples ignoring the class labels\n",
    "* Compute the d-dimensional mean vector (i.e., the means for every dimension of the whole dataset)\n",
    "* Compute the scatter matrix (alternatively, the covariance matrix) of the whole data set\n",
    "* Compute eigenvectors (e<sub>1</sub>,e<sub>2</sub>,...,e<sub>d</sub>) and corresponding eigenvalues (λ<sub>1</sub>,λ<sub>2</sub>,...,λ<sub>d</sub>)\n",
    "* Sort the eigenvectors by decreasing eigenvalues and choose k eigenvectors with the largest eigenvalues to form a d×k dimensional matrix W(where every column represents an eigenvector)\n",
    "* Use this d×k eigenvector matrix to transform the samples onto the new subspace. This can be summarized by the mathematical equation: y = W<sup>T</sup>×x (where x is a d×1-dimensional vector representing one sample, and y is the transformed k×1-dimensional sample in the new subspace.)"
   ]
  },
  {
   "cell_type": "markdown",
   "metadata": {
    "deletable": true,
    "editable": true
   },
   "source": [
    "### Covariance Matrix\n",
    "In probability theory and statistics, a covariance matrix (also known as dispersion matrix or variance–covariance matrix) is a matrix whose element in the i, j position is the covariance between the i th and j th elements of a random vector\n",
    "\n",
    "The classic approach to PCA is to perform the eigendecomposition on the covariance matrix $\\Sigma$, which is a $d \\times d$ matrix where each element represents the covariance between two features. The covariance between two features is calculated as follows:\n",
    "\n",
    "$\\sigma_{jk} = \\frac{1}{n-1}\\sum_{i=1}^{N}\\left(  x_{ij}-\\bar{x}_j \\right)  \\left( x_{ik}-\\bar{x}_k \\right).$\n",
    "\n",
    "We can summarize the calculation of the covariance matrix via the following matrix equation:   \n",
    "$\\Sigma = \\frac{1}{n-1} \\left( (\\mathbf{X} - \\mathbf{\\bar{x}})^T\\;(\\mathbf{X} - \\mathbf{\\bar{x}}) \\right)$  \n",
    "where $\\mathbf{\\bar{x}}$ is the mean vector \n",
    "$\\mathbf{\\bar{x}} = \\sum\\limits_{i=1}^n x_{i}.$  \n",
    "The mean vector is a $d$-dimensional vector where each value in this vector represents the sample mean of a feature column in the dataset."
   ]
  },
  {
   "cell_type": "code",
   "execution_count": 14,
   "metadata": {
    "collapsed": false,
    "deletable": true,
    "editable": true
   },
   "outputs": [
    {
     "name": "stdout",
     "output_type": "stream",
     "text": [
      "Dimension of Covariance Matrix (1000, 1000)\n"
     ]
    },
    {
     "data": {
      "text/plain": [
       "array([[ 10283.63033336,   1740.9063062 ,   4081.59025334, ...,\n",
       "          1327.4108218 ,   1861.51963276,   4198.80796648],\n",
       "       [  1740.9063062 ,   6605.24876684,   1537.69242285, ...,\n",
       "           452.29714989,   -409.8229973 ,   -383.21930468],\n",
       "       [  4081.59025334,   1537.69242285,   7842.92652377, ...,\n",
       "          1622.36382177,   1012.99427405,   2864.2103028 ],\n",
       "       ..., \n",
       "       [  1327.4108218 ,    452.29714989,   1622.36382177, ...,\n",
       "          6162.72731775,   1972.68463132,   3166.24351005],\n",
       "       [  1861.51963276,   -409.8229973 ,   1012.99427405, ...,\n",
       "          1972.68463132,   4367.16491875,   4325.82259657],\n",
       "       [  4198.80796648,   -383.21930468,   2864.2103028 , ...,\n",
       "          3166.24351005,   4325.82259657,   8671.31645522]])"
      ]
     },
     "execution_count": 14,
     "metadata": {},
     "output_type": "execute_result"
    }
   ],
   "source": [
    "## Covariance Matrix\n",
    "cov_matrix = np.cov(x_sample_data)\n",
    "#print('Covariance Matrix \\n%s' %cov_matrix)\n",
    "print('Dimension of Covariance Matrix', cov_matrix.shape)\n",
    "cov_matrix"
   ]
  },
  {
   "cell_type": "markdown",
   "metadata": {
    "deletable": true,
    "editable": true
   },
   "source": [
    "### Eigen Value and Eigen Vectors\n",
    "In linear algebra, an eigenvector or characteristic vector of a linear transformation is a non-zero vector that only changes by a scalar factor, when that linear transformation is applied to it. More formally, if T is a linear transformation from a vector space V over a field F into itself and v is a vector in V that is not the zero vector, then v is an eigenvector of T if T(v) is a scalar multiple of v. This condition can be written as the equation\n",
    "\n",
    "\\begin{equation*}\n",
    "T(V)   = \\lambda \\mathbf {v}\n",
    "\\end{equation*}\n",
    "\n",
    "where λ is a scalar in the field F, known as the eigenvalue, characteristic value, or characteristic root associated with the eigenvector v."
   ]
  },
  {
   "cell_type": "code",
   "execution_count": 15,
   "metadata": {
    "collapsed": false,
    "deletable": true,
    "editable": true
   },
   "outputs": [
    {
     "name": "stdout",
     "output_type": "stream",
     "text": [
      "Dimension of Eigen Value (1000,)\n",
      "Dimension of Eigen Vector (1000, 1000)\n"
     ]
    },
    {
     "data": {
      "text/plain": [
       "array([[-0.04373593+0.j        ,  0.02394626+0.j        ,\n",
       "        -0.03224298+0.j        , ..., -0.02112488+0.01218984j,\n",
       "        -0.02112488-0.01218984j,  0.04439111+0.j        ],\n",
       "       [-0.01785777+0.j        ,  0.08306462+0.j        ,\n",
       "        -0.00404142+0.j        , ...,  0.01979262+0.00125904j,\n",
       "         0.01979262-0.00125904j,  0.00985084+0.j        ],\n",
       "       [-0.04378190+0.j        ,  0.04279617+0.j        ,\n",
       "        -0.01493886+0.j        , ...,  0.02998601-0.01059184j,\n",
       "         0.02998601+0.01059184j, -0.00419631+0.j        ],\n",
       "       ..., \n",
       "       [-0.03123858+0.j        , -0.02945797+0.j        ,\n",
       "        -0.03320250+0.j        , ..., -0.02415611-0.007849j  ,\n",
       "        -0.02415611+0.007849j  ,  0.00043130+0.j        ],\n",
       "       [-0.02520266+0.j        , -0.04616428+0.j        ,\n",
       "         0.00857904+0.j        , ...,  0.01018790+0.00203016j,\n",
       "         0.01018790-0.00203016j, -0.01176338+0.j        ],\n",
       "       [-0.04685958+0.j        , -0.06739914+0.j        ,\n",
       "        -0.01541642+0.j        , ..., -0.02693348-0.00601034j,\n",
       "        -0.02693348+0.00601034j,  0.02154245+0.j        ]])"
      ]
     },
     "execution_count": 15,
     "metadata": {},
     "output_type": "execute_result"
    }
   ],
   "source": [
    "## Eigenvalue and Eigen Vectors \n",
    "eigval, eigvec = LA.eig(cov_matrix)\n",
    "idx = eigval.argsort()[::-1]   \n",
    "eigval = eigval[idx]\n",
    "eigvec = eigvec[:,idx]\n",
    "print('Dimension of Eigen Value', eigval.shape)\n",
    "print('Dimension of Eigen Vector', eigvec.shape)\n",
    "eigvec"
   ]
  },
  {
   "cell_type": "markdown",
   "metadata": {
    "deletable": true,
    "editable": true
   },
   "source": [
    "### PCA Components\n",
    "To center the data (make it have zero mean and unit standard error), you subtract the mean and then divide the result by the standard deviation.\n",
    "\n",
    "x′=x−μ/σ\n",
    "\n",
    "You do that on the training set of data. But then you have to apply the same transformation to your testing set (e.g. in cross-validation), or to newly obtained examples before forecast. But you have to use the same two parameters μ and σ (values) that you used for centering the training set.\n",
    "\n",
    "Hence, every sklearn's transform's fit() just calculates the parameters (e.g. μ and σ in case of StandardScaler) and saves them as an internal objects state. Afterwards, you can call its transform() method to apply the transformation to a particular set of examples.\n",
    "\n",
    "fit_transform() joins these two steps and is used for the initial fitting of parameters on the training set x, but it also returns a transformed x′. Internally, it just calls first fit() and then transform() on the same data.\n",
    "\n",
    "###Explained Variance\n",
    "------------------------\n",
    "The explained variance tells you how much information (variance) can be attributed to each of the principal components. This is important as while you can convert 4 dimensional space to 2 dimensional space, you lose some of the variance (information) when you do this. By using the attribute explained_variance_ratio_, you can see that the first principal component contains some% of the variance and the second principal component contains some % of the variance. "
   ]
  },
  {
   "cell_type": "code",
   "execution_count": 16,
   "metadata": {
    "collapsed": false,
    "deletable": true,
    "editable": true
   },
   "outputs": [],
   "source": [
    "from sklearn.preprocessing import StandardScaler\n",
    "scaler = StandardScaler()\n",
    "Digits_Stand = scaler.fit_transform(Digits_T)\n",
    "\n",
    "# Fit on training set only.\n",
    "#scaler.fit(Digits_T)\n",
    "#scaler.fit(Digits_Test)\n",
    "# Apply transform to both the training set and the test set.\n",
    "#Digits_T1 = scaler.transform(Digits_T)\n",
    "#Digits_Test = scaler.transform(Digits_Test)"
   ]
  },
  {
   "cell_type": "code",
   "execution_count": 43,
   "metadata": {
    "collapsed": false,
    "deletable": true,
    "editable": true
   },
   "outputs": [
    {
     "name": "stdout",
     "output_type": "stream",
     "text": [
      "Explained variation per principal component: [ 0.05747953  0.04111691  0.03782867  0.02939862  0.02556439  0.02229844\n",
      "  0.01952552  0.01771605  0.0156266   0.01424956  0.01361009  0.0122254\n",
      "  0.01135732  0.01113084  0.01050309  0.01012318  0.00951293  0.00934496\n",
      "  0.00907142  0.00885303  0.00838815  0.00811913  0.00774963  0.00752074\n",
      "  0.00727273  0.00697725  0.00688333  0.00663005  0.00628124  0.00614056]\n",
      "\n",
      "\n",
      "Explained cumulative variation for 30 principal components: [  5.7   9.8  13.6  16.5  19.1  21.3  23.3  25.1  26.7  28.1  29.5  30.7\n",
      "  31.8  32.9  34.   35.   36.   36.9  37.8  38.7  39.5  40.3  41.1  41.9\n",
      "  42.6  43.3  44.   44.7  45.3  45.9]\n"
     ]
    }
   ],
   "source": [
    "## Set the seed\n",
    "np.random.seed(1234)\n",
    "\n",
    "## Generate 30 Principle Components\n",
    "PCA_30 = PCA(n_components = 30)\n",
    "PCA_30.fit = PCA_30.fit_transform(Digits_Stand)\n",
    "##All the Variance explained and explained variance ratio will be calcuated when we fit the data\n",
    "## Variance explained\n",
    "variance = PCA_30.explained_variance_ratio_\n",
    "\n",
    "\n",
    "pca = PCA(n_components=30)\n",
    "X_30d = pca.fit_transform(Digits_T)\n",
    "variance_NS = pca.explained_variance_ratio_\n",
    "\n",
    "print('Explained variation per principal component: {0}'.format(variance))\n",
    "\n",
    "print(\"\\n\")\n",
    "\n",
    "# calculate variance ratios\n",
    "variance_ratio = np.cumsum(np.round(variance, decimals=3)*100)\n",
    "variance_ratio_NS = np.cumsum(np.round(variance_NS, decimals=3)*100)\n",
    "\n",
    "print('Explained cumulative variation for 30 principal components: {0}'.format(variance_ratio))"
   ]
  },
  {
   "cell_type": "code",
   "execution_count": 19,
   "metadata": {
    "collapsed": false,
    "deletable": true,
    "editable": true
   },
   "outputs": [
    {
     "name": "stdout",
     "output_type": "stream",
     "text": [
      "(42000, 784)\n",
      "(42000, 30)\n"
     ]
    }
   ],
   "source": [
    "print(Digits_Stand.shape)\n",
    "print(PCA_30.fit.shape)"
   ]
  },
  {
   "cell_type": "code",
   "execution_count": 45,
   "metadata": {
    "collapsed": false,
    "deletable": true,
    "editable": true
   },
   "outputs": [
    {
     "name": "stdout",
     "output_type": "stream",
     "text": [
      "             pc0        pc1        pc2        pc3        pc4        pc5  \\\n",
      "0      -5.140478  -5.226445   3.887001  -0.901519   4.929119   2.035404   \n",
      "1      19.292332   6.032996   1.308147  -2.383291   3.095203  -1.791090   \n",
      "2      -7.644503  -1.705813   2.289327   2.241141   5.094424  -4.152078   \n",
      "3      -0.474207   5.836139   2.008615   4.271105   2.377780   2.179904   \n",
      "4      26.559574   6.024819   0.933179  -3.012642   9.489185  -2.331195   \n",
      "5       1.269197  -0.713788  -1.247943   0.222380  -4.047513  -1.434697   \n",
      "6      -6.139613   6.028416  -3.843942  -0.322376   4.686943   0.549457   \n",
      "7       0.147792   4.238571  -0.869049  -6.635338   3.070280   3.369972   \n",
      "8      -0.598138  -1.671837  -3.018387  -5.983606  -6.355811  -3.377178   \n",
      "9       2.940684  -2.182601   8.590292  -3.509725  -0.033496   0.120927   \n",
      "10      0.530970  -5.800594  -9.622758  -7.184756  -2.163812   5.928638   \n",
      "11     -5.089862  -2.840312  -5.640870  -1.470592  -0.227749   4.058503   \n",
      "12     -8.135130  -1.789000   2.483755   2.210545   5.667894  -3.071952   \n",
      "13      0.943464  14.066482   8.977197 -10.364427   0.934048   3.988139   \n",
      "14      6.205129   0.764764   7.761367  -7.102151  -0.881028   2.182307   \n",
      "15     -8.023728  -1.042898   1.950478   1.778654   6.819811  -2.494318   \n",
      "16      0.440178   6.019213   9.965937  -6.758760  -1.041398   5.512340   \n",
      "17      8.393430 -10.119340  -4.802873  -2.530669  -0.877319  -2.447803   \n",
      "18     -6.819947   1.371945  -3.389412   0.636808   4.165422   0.585428   \n",
      "19     11.687632   5.757946   9.911084   0.194143  -4.828210  -0.376427   \n",
      "20     -3.688248  -5.424841  -0.728682  -3.856449  -0.592170   2.474910   \n",
      "21      4.675588  -7.264466  -1.712585   7.163783   1.390510  -1.534532   \n",
      "22      0.300397  -0.303702  12.199116  -4.671619   1.929537   1.782465   \n",
      "23     20.913808   4.189702  -0.489581  -2.133816  12.187327  -2.994093   \n",
      "24     -1.777442   7.059802   7.724536  -4.618941   3.450301   3.697198   \n",
      "25      1.855242  -4.276914   5.269100  -8.437410   1.174687  -1.946937   \n",
      "26     -0.721853  -0.958562   1.218572   9.463958  -7.884600  -2.277735   \n",
      "27     -7.004694  -2.819728  -1.748748  -1.551264   1.460591   3.499039   \n",
      "28     -6.991132   0.342616  -5.690991  -0.229727  -4.150629   1.599272   \n",
      "29     -2.344943  13.842257  -9.425628  -3.360834   0.667069   1.822791   \n",
      "...          ...        ...        ...        ...        ...        ...   \n",
      "41970   0.864214  -4.789794   4.366629  -2.487464  -0.803864   4.806988   \n",
      "41971  -0.507800   0.560775   1.170803  -8.000385  -2.815745  -3.470480   \n",
      "41972   5.288164   1.078614  -6.062310   8.188221  -3.006640  -0.524258   \n",
      "41973  -6.187550   1.673307  -1.618250   2.195712  -0.709532  -1.860965   \n",
      "41974   3.062873  -3.000270   5.576786  -6.666088  -0.913811  -6.833791   \n",
      "41975   1.217084   8.627579  -5.188642   0.865032  -1.461927  -2.102877   \n",
      "41976   3.121774   0.366357   9.350389   7.532552  -0.421355   6.629377   \n",
      "41977  -0.889218   4.080395  -3.452606   2.872987  -0.430333  -1.681612   \n",
      "41978  -3.475907  -2.046359  -5.988916   2.916164  -0.266299   0.318130   \n",
      "41979   1.738211   2.827016  -6.571153   2.282823  -0.390078  -3.869876   \n",
      "41980  -2.156778  13.529039  -2.498017  -0.956969   1.539122  -1.796132   \n",
      "41981   1.844372  -6.455080   4.302366   2.654854  -3.269842   5.546628   \n",
      "41982  -3.148888   8.256268   4.252385  -2.524862   2.172324   2.732321   \n",
      "41983  -3.254137   1.271377  -3.690533   0.910575   5.670784   5.437719   \n",
      "41984   0.780777  22.199216   3.495920  -7.486969   1.028911  11.510070   \n",
      "41985  -4.951292  -0.328561   1.365065  -6.470094   0.659529  -3.868807   \n",
      "41986  13.028619  -5.986138  -8.478043   3.520914   9.385158  -3.928728   \n",
      "41987   1.252866   0.956427   5.164062  -8.679334  -4.842343  -6.095473   \n",
      "41988  15.132777  -1.873688  -1.771348  -5.107636   7.593586  -6.996499   \n",
      "41989   3.855264   4.130731   5.148730  -9.431146  -2.499962  -3.477913   \n",
      "41990  -3.373471   4.762094   6.453099  -5.760996   1.359959  -2.875055   \n",
      "41991  -7.800928  -3.689802   4.297594   0.728542   3.896647  -1.455807   \n",
      "41992   3.708266   9.335027   1.807548   3.574370  -2.031130   2.265385   \n",
      "41993   4.344420   1.828258   5.202601   7.613949  -7.122557  -2.141901   \n",
      "41994   9.023128   9.236773  -8.036323   0.219876   3.005051   2.192617   \n",
      "41995  13.678849  -1.350366  -3.957334  -5.379679  10.875877  -5.105577   \n",
      "41996  -8.869582  -1.187360   2.323167   1.528833   5.798986  -2.821950   \n",
      "41997   0.495391   7.076277 -12.089700  -3.223281   0.618190   0.330460   \n",
      "41998   2.307240  -4.344512   0.699845  10.011213  -5.586471  -5.494854   \n",
      "41999  -4.807670   1.559121  -2.497936   2.218727  -1.041882   0.168206   \n",
      "\n",
      "             pc6        pc7        pc8       pc9    ...         pc20  \\\n",
      "0       4.706972  -4.767307   0.231150 -1.460925    ...    -2.196021   \n",
      "1      -3.772687   0.153509  -4.115347 -4.299422    ...    -2.414436   \n",
      "2      -1.011965   1.732569   0.436515 -0.073276    ...    -0.575384   \n",
      "3       4.398167  -0.353846   0.992566  5.500013    ...    -2.013641   \n",
      "4      -6.149600  -1.783672  -4.123345 -5.757432    ...     0.972164   \n",
      "5      -0.826532   0.485564  -6.237218  1.516145    ...    -0.278612   \n",
      "6      -1.577301   2.227079  -3.585635 -1.529687    ...    -2.735670   \n",
      "7       4.005192  -2.107739  -0.896821  3.242033    ...     2.187016   \n",
      "8      -0.604256  -3.094912   0.240390  2.929569    ...    -0.945717   \n",
      "9      -0.005926   9.645853  -2.572727  3.953718    ...    -3.181310   \n",
      "10     -5.984391   0.746612   5.280727  0.080824    ...     0.975319   \n",
      "11     -5.269384  -0.131163   2.569427  0.697578    ...     3.385868   \n",
      "12      0.172187  -0.132666   1.665325 -0.667553    ...    -0.081734   \n",
      "13      2.152657   9.353696  10.395546  2.365583    ...    -3.348619   \n",
      "14      0.120338   2.612526  -5.737167  4.878908    ...    -2.074522   \n",
      "15      0.808616  -0.814298  -1.107771  0.586221    ...    -1.068640   \n",
      "16     -5.141201  -2.118262   5.662988 -7.981858    ...    -1.193337   \n",
      "17      3.803759   5.956672   1.149960  2.229035    ...    -0.848091   \n",
      "18     -3.655937   1.148055  -3.366302 -0.078368    ...     0.117167   \n",
      "19     -2.860018  -3.742798   1.623000 -0.818886    ...     0.035692   \n",
      "20     -0.421189  -1.694499   0.049305 -1.336814    ...     0.415866   \n",
      "21      6.435167   1.074228   3.616517 -2.928474    ...    -2.972857   \n",
      "22     -1.799163  -1.443097  -1.958685 -3.792744    ...    -2.230065   \n",
      "23     -8.309928  -2.248939  -0.481548 -7.042963    ...     5.217617   \n",
      "24     -2.162008   0.694296   1.500917 -4.759647    ...    -2.330136   \n",
      "25      2.043496   4.403895  -3.096593  5.059193    ...    -4.098897   \n",
      "26     -1.939025   2.887927  -0.818947  2.730152    ...    -1.259722   \n",
      "27     -3.785727  -0.473168   1.807489 -1.652733    ...     2.506356   \n",
      "28     -4.109882   3.127446   2.676292 -1.119961    ...     1.573187   \n",
      "29      5.708080   9.895972  -3.724689 -4.229287    ...    -0.862335   \n",
      "...          ...        ...        ...       ...    ...          ...   \n",
      "41970  -0.845043  -1.012430  -7.827657 -0.040608    ...    -0.510147   \n",
      "41971   0.283830  -1.764586  -0.244413 -0.257445    ...    -0.331724   \n",
      "41972   0.025819  -4.158876  -0.168308  4.043496    ...    -1.012922   \n",
      "41973  -0.412027  -3.747350  -0.375867  1.117380    ...    -1.626963   \n",
      "41974   0.405426   4.049709   0.240180 -2.564642    ...     0.162496   \n",
      "41975   6.106964  -5.274011  -0.549154 -1.963079    ...     1.142423   \n",
      "41976  -3.171725   6.795534  -2.218080  8.873466    ...    -2.079570   \n",
      "41977   8.057561  -3.912520   2.932593  0.327209    ...     4.519872   \n",
      "41978   0.212126  -1.988983   1.659040  5.241682    ...     2.105851   \n",
      "41979   0.658862  -4.005305  -1.143157  6.192984    ...    -0.887481   \n",
      "41980  14.028768   2.026252   5.288888 -3.248190    ...    -0.664862   \n",
      "41981   7.117861  -3.543580  -5.554667 -2.246994    ...     1.700966   \n",
      "41982   1.982329  -1.104049   2.317814  3.524612    ...    -0.158129   \n",
      "41983  -1.674080   4.591784   0.030152  5.001796    ...     0.327397   \n",
      "41984  11.667961   7.450701   7.846824 -7.875250    ...    -1.043759   \n",
      "41985  -1.629752   1.871684  -1.469029 -0.496001    ...     0.181198   \n",
      "41986   2.570408  -0.356306  -1.198965 -0.194413    ...    -1.713722   \n",
      "41987  -0.579845  -1.226799  -0.112823 -0.848919    ...     2.041070   \n",
      "41988  -5.098541  -5.833680  -1.225524  2.049400    ...     1.490949   \n",
      "41989  -2.414858  -4.618731   0.701059  1.682401    ...     2.078784   \n",
      "41990  -0.242423  -2.264021  -0.690864  0.642792    ...     1.318760   \n",
      "41991  -2.459196   1.795161   2.750705 -4.519692    ...    -1.232493   \n",
      "41992   4.085933  -1.291541   1.834847  1.500573    ...    -5.724918   \n",
      "41993  -3.197181   1.846588   1.326906  3.018353    ...    -3.698524   \n",
      "41994  15.482908  -1.789340   1.233197  1.741451    ...     9.580485   \n",
      "41995   0.071747  -5.083514  -4.253280 -0.672302    ...     1.491048   \n",
      "41996  -0.351776   0.529807   0.992395 -1.126228    ...    -1.110371   \n",
      "41997  -2.128054  10.535229  -2.226057 -1.881716    ...    -1.118558   \n",
      "41998   0.189897   5.450001   2.181209 -1.769209    ...     0.498554   \n",
      "41999   1.191365  -3.285972  -1.626913 -1.431700    ...    -0.020224   \n",
      "\n",
      "            pc21       pc22       pc23      pc24      pc25      pc26  \\\n",
      "0      -1.280025  -1.382545  -0.992343  2.496793 -0.058169  0.951692   \n",
      "1      -3.447117  -0.232320   0.324622 -0.524556 -4.158251  0.097831   \n",
      "2      -0.939679   2.268140   1.893719 -2.089352 -0.634091  1.102600   \n",
      "3       1.036307   0.456137   0.521981  3.397357 -1.625093  0.735425   \n",
      "4       0.822964  -0.891823   0.180020 -2.770276 -3.351768  1.138979   \n",
      "5       2.083812   0.800359   0.369585 -1.104043 -1.447974  0.097346   \n",
      "6      -0.445509  -2.365637  -0.091087  2.550153 -3.477005 -0.255064   \n",
      "7      -1.020696   0.664766  -0.227101  2.449159  1.453022 -1.121792   \n",
      "8       1.669183   0.563000  -2.196906 -0.715577  2.853471 -4.534799   \n",
      "9       0.025467   1.536430  -2.377781 -2.367751 -1.378484  1.624712   \n",
      "10     -3.846018  -0.476165   0.318476  0.747537  1.222078  2.552631   \n",
      "11      1.389939  -0.933036  -0.674474 -1.682978  2.983487 -1.379617   \n",
      "12     -1.819836   2.467384   1.498994 -1.150889 -0.032897 -0.701475   \n",
      "13      6.043258  -1.523094  -6.481199  0.456136 -5.270532  1.781722   \n",
      "14     -0.541880  -0.120510   0.879101 -1.779296 -1.164933 -2.538375   \n",
      "15     -1.008474   1.783822   0.109171 -0.856821  0.111589 -1.433188   \n",
      "16     -3.139061  -1.488359   3.789317  0.661705  1.121794  0.776171   \n",
      "17     -1.826450   2.838407  -0.022936 -2.777895  0.765411 -1.087787   \n",
      "18      2.197345   1.386164  -0.302275  1.973896 -0.367238 -0.998078   \n",
      "19     -2.142065  -4.574133   5.877843 -2.528848  1.380096 -2.677757   \n",
      "20      2.465884  -0.333667  -1.514921  0.198939  0.039091  0.617089   \n",
      "21     -3.527892  -4.895438  -1.429976  2.648307  8.101094  6.092302   \n",
      "22     -0.257448  -1.049644   0.545678 -0.202339 -1.758343 -0.953940   \n",
      "23      0.524783  -0.469135   2.130807 -3.111991 -3.099565  3.006393   \n",
      "24     -0.406152  -0.713968  -2.532412  1.647880 -1.817521 -2.935982   \n",
      "25     -4.678963  -3.269621   4.059663 -4.168541 -6.664185  5.424833   \n",
      "26      0.977790   0.207998  -5.143552 -1.034676  0.784258  0.650907   \n",
      "27      2.217712  -2.382310  -2.635069 -0.658132  2.064317 -0.243149   \n",
      "28      0.138112   1.284114   0.630919 -0.184401 -0.788807  1.102587   \n",
      "29     -1.978416  -5.668647  -1.462650  0.996910 -2.515065 -0.281053   \n",
      "...          ...        ...        ...       ...       ...       ...   \n",
      "41970   3.100775  -0.987804   0.537652 -1.709782 -0.206405  1.439953   \n",
      "41971  -2.826871   1.740482  -2.364949  1.336021  0.340065 -2.705791   \n",
      "41972   0.075633   3.690390   0.929304  3.127162  6.604138  1.652688   \n",
      "41973  -1.561394  -0.139775   0.452984 -2.397956 -0.029996 -0.688326   \n",
      "41974   0.371385   0.733895  -0.672901  0.964693 -0.590042 -0.310421   \n",
      "41975  -0.003815   0.015306   0.319104 -2.570606 -1.921965 -2.040768   \n",
      "41976   3.986337   3.274641   3.140663  3.187165 -1.693346  0.940428   \n",
      "41977   1.985295  -1.308016  -5.731206 -0.334973 -1.574350  0.859055   \n",
      "41978   1.237128   1.568902   0.593650 -2.377809  0.330340  1.413690   \n",
      "41979  -2.427364   0.080684   0.336211 -2.046281  0.810262 -2.188280   \n",
      "41980  12.093556  11.316090   7.039210  4.019835 -3.816991  0.513870   \n",
      "41981   3.744026  -0.607008   2.390043  0.810910 -0.806125 -0.566068   \n",
      "41982   3.222233  -0.440641   0.045494 -1.081174 -0.318505  1.572697   \n",
      "41983   1.671668  -2.283856  -2.768863 -0.674367  0.546875  1.406044   \n",
      "41984   3.853063   6.697715  -1.648168 -3.238617  3.805578 -1.338424   \n",
      "41985   0.008953   1.611969  -3.260257 -0.555510  1.254214  0.570371   \n",
      "41986   0.994705  -2.025573  -5.248764  1.619030  2.582946 -1.436101   \n",
      "41987  -0.005435   0.672930  -1.051020  2.951441  2.238497  1.171562   \n",
      "41988   3.086288   0.977713  -0.132445 -1.073433  3.886827  1.689183   \n",
      "41989  -2.250326  -0.520712   1.727300  1.557114  2.138132  0.893015   \n",
      "41990  -2.062010   2.155659  -2.148270  1.603723  0.573997 -0.396550   \n",
      "41991  -0.862861   2.211812   1.669245 -3.024699 -0.675447 -0.012274   \n",
      "41992  -2.490465   4.107779   2.660162  2.593155 -0.048552  1.981996   \n",
      "41993  -5.108061   1.785217   0.438530  4.518703  3.218376  0.865091   \n",
      "41994  -1.390964  -7.324751 -11.298188  3.118891 -0.671685  0.085584   \n",
      "41995   1.566934  -1.774588  -2.674639  0.705636  0.633518 -1.164255   \n",
      "41996  -2.042725   2.753568   1.313225 -1.861090 -0.284249  0.096111   \n",
      "41997  -2.857879   0.029271   2.139344  3.685045 -3.047419 -2.428216   \n",
      "41998   1.170567  -2.835350   0.891476 -0.691612 -2.438405 -1.950122   \n",
      "41999  -0.378333  -1.063931  -1.567423  0.409724 -0.597728  2.440901   \n",
      "\n",
      "           pc27      pc28      pc29  \n",
      "0     -2.014211  0.786573 -0.057926  \n",
      "1      0.085979 -0.587294 -1.368296  \n",
      "2     -1.610468  0.405685  0.364499  \n",
      "3      0.623206  0.848822  0.468795  \n",
      "4     -0.012292 -1.502868 -0.480956  \n",
      "5      0.029953  3.007372 -1.069556  \n",
      "6      1.827719 -1.817523  1.804453  \n",
      "7      0.912339 -2.730108  4.580532  \n",
      "8      0.138672  0.771233 -0.275326  \n",
      "9      0.431460  2.894876  1.403524  \n",
      "10    -1.425511 -3.382404  1.769839  \n",
      "11    -0.698096 -1.629780 -0.526292  \n",
      "12    -0.716728  0.001448  0.038694  \n",
      "13    -1.136768  3.558335 -5.988075  \n",
      "14     0.375793 -1.659622  1.992342  \n",
      "15     1.329961  0.569214 -0.057042  \n",
      "16     0.083168 -0.036103 -1.422997  \n",
      "17    -0.678930 -0.583670  1.795689  \n",
      "18     2.681109 -0.636354 -0.702633  \n",
      "19    -0.271449 -0.436976  0.717720  \n",
      "20    -2.175512 -2.253054  0.086306  \n",
      "21     3.925087 -1.669492  0.496174  \n",
      "22     0.712462  0.403028 -1.289269  \n",
      "23    -4.340965  0.996923 -1.473602  \n",
      "24     0.499293 -0.896761 -2.646684  \n",
      "25     6.697513 -1.449609 -5.989360  \n",
      "26     1.423074 -0.702936 -0.545548  \n",
      "27    -0.334017 -1.361372  0.296611  \n",
      "28     1.534471 -2.351258 -0.053207  \n",
      "29    -2.493378 -1.675391  1.119356  \n",
      "...         ...       ...       ...  \n",
      "41970 -1.605607  0.663397  0.138276  \n",
      "41971  0.418519  0.141898  1.037482  \n",
      "41972  1.121567  4.778830 -2.178010  \n",
      "41973  2.225744 -0.070210  0.515640  \n",
      "41974 -1.433457  0.274733  2.578846  \n",
      "41975 -3.443724  0.841652 -2.094781  \n",
      "41976  1.400819 -3.516383  0.588122  \n",
      "41977  3.660011 -2.138088 -3.083235  \n",
      "41978 -0.854643 -1.361698 -0.364723  \n",
      "41979 -0.724076  1.800120  0.281837  \n",
      "41980 -6.239031 -6.974121  1.203759  \n",
      "41981  0.921517 -1.142422  2.818777  \n",
      "41982  1.098871  0.009520 -0.561710  \n",
      "41983 -1.670196  2.773289 -0.124674  \n",
      "41984  5.656993 -2.195418  0.758798  \n",
      "41985  0.078974  0.250756  0.816555  \n",
      "41986  1.792562 -1.196144 -0.034735  \n",
      "41987 -0.188650  0.371913  0.903562  \n",
      "41988  1.575691 -2.427625  1.970919  \n",
      "41989  1.349779 -0.092036  1.948593  \n",
      "41990  2.241842 -0.995245  0.630368  \n",
      "41991 -1.360073  1.133291  0.026089  \n",
      "41992 -0.815172  3.619090  1.707948  \n",
      "41993 -0.823712 -4.949956 -0.499873  \n",
      "41994  0.267595  0.785377 -4.924876  \n",
      "41995  0.852968 -4.129341 -0.584207  \n",
      "41996 -0.165634  0.431368  1.366454  \n",
      "41997 -0.617183 -1.070800 -1.591836  \n",
      "41998  2.219540  0.226424  1.833017  \n",
      "41999  0.713529 -0.939459 -1.040788  \n",
      "\n",
      "[42000 rows x 30 columns]\n"
     ]
    }
   ],
   "source": [
    "col_names = [ 'pc'+str(i) for i in range(0,30) ]\n",
    "principalDf = pd.DataFrame(PCA_30.fit[:,], columns = col_names)\n",
    "principalDfNS = pd.DataFrame(X_30d[:,], columns = col_names)\n",
    "\n",
    "print(principalDf)"
   ]
  },
  {
   "cell_type": "code",
   "execution_count": 46,
   "metadata": {
    "collapsed": false,
    "deletable": true,
    "editable": true
   },
   "outputs": [],
   "source": [
    "finalDf = pd.concat([principalDf, Digits_Train[['label']]], axis = 1)\n",
    "finalDfNS = pd.concat([principalDfNS, Digits_Train[['label']]], axis = 1)"
   ]
  },
  {
   "cell_type": "code",
   "execution_count": null,
   "metadata": {
    "collapsed": false,
    "deletable": true,
    "editable": true
   },
   "outputs": [],
   "source": [
    "plt.figure(figsize=(15, 8))\n",
    "plt.ylabel('% Variance Explained')\n",
    "plt.xlabel('# of Features')\n",
    "plt.title('PCA Analysis')\n",
    "plt.ylim(0,100)\n",
    "plt.style.context('seaborn-whitegrid')\n",
    "plt.plot(variance_ratio)\n",
    "plt.show()"
   ]
  },
  {
   "cell_type": "code",
   "execution_count": 47,
   "metadata": {
    "collapsed": false,
    "deletable": true,
    "editable": true
   },
   "outputs": [],
   "source": [
    "## For plotting\n",
    "Digits_Train['pca-one'] = PCA_30.fit[:,0]\n",
    "Digits_Train['pca-two'] = PCA_30.fit[:,1]\n",
    "\n",
    "Digits_Train1['pca-one'] = X_30d[:,0]\n",
    "Digits_Train1['pca-two'] = X_30d[:,1]\n",
    "\n",
    "Y=Digits_Train.label"
   ]
  },
  {
   "cell_type": "code",
   "execution_count": 50,
   "metadata": {
    "collapsed": false,
    "deletable": true,
    "editable": true
   },
   "outputs": [
    {
     "data": {
      "text/html": [
       "<div>\n",
       "<table border=\"1\" class=\"dataframe\">\n",
       "  <thead>\n",
       "    <tr style=\"text-align: right;\">\n",
       "      <th></th>\n",
       "      <th>label</th>\n",
       "      <th>pixel0</th>\n",
       "      <th>pixel1</th>\n",
       "      <th>pixel2</th>\n",
       "      <th>pixel3</th>\n",
       "      <th>pixel4</th>\n",
       "      <th>pixel5</th>\n",
       "      <th>pixel6</th>\n",
       "      <th>pixel7</th>\n",
       "      <th>pixel8</th>\n",
       "      <th>...</th>\n",
       "      <th>pixel776</th>\n",
       "      <th>pixel777</th>\n",
       "      <th>pixel778</th>\n",
       "      <th>pixel779</th>\n",
       "      <th>pixel780</th>\n",
       "      <th>pixel781</th>\n",
       "      <th>pixel782</th>\n",
       "      <th>pixel783</th>\n",
       "      <th>pca-one</th>\n",
       "      <th>pca-two</th>\n",
       "    </tr>\n",
       "  </thead>\n",
       "  <tbody>\n",
       "    <tr>\n",
       "      <th>0</th>\n",
       "      <td>1</td>\n",
       "      <td>0</td>\n",
       "      <td>0</td>\n",
       "      <td>0</td>\n",
       "      <td>0</td>\n",
       "      <td>0</td>\n",
       "      <td>0</td>\n",
       "      <td>0</td>\n",
       "      <td>0</td>\n",
       "      <td>0</td>\n",
       "      <td>...</td>\n",
       "      <td>0</td>\n",
       "      <td>0</td>\n",
       "      <td>0</td>\n",
       "      <td>0</td>\n",
       "      <td>0</td>\n",
       "      <td>0</td>\n",
       "      <td>0</td>\n",
       "      <td>0</td>\n",
       "      <td>-5.140478</td>\n",
       "      <td>-5.226445</td>\n",
       "    </tr>\n",
       "    <tr>\n",
       "      <th>1</th>\n",
       "      <td>0</td>\n",
       "      <td>0</td>\n",
       "      <td>0</td>\n",
       "      <td>0</td>\n",
       "      <td>0</td>\n",
       "      <td>0</td>\n",
       "      <td>0</td>\n",
       "      <td>0</td>\n",
       "      <td>0</td>\n",
       "      <td>0</td>\n",
       "      <td>...</td>\n",
       "      <td>0</td>\n",
       "      <td>0</td>\n",
       "      <td>0</td>\n",
       "      <td>0</td>\n",
       "      <td>0</td>\n",
       "      <td>0</td>\n",
       "      <td>0</td>\n",
       "      <td>0</td>\n",
       "      <td>19.292332</td>\n",
       "      <td>6.032996</td>\n",
       "    </tr>\n",
       "    <tr>\n",
       "      <th>2</th>\n",
       "      <td>1</td>\n",
       "      <td>0</td>\n",
       "      <td>0</td>\n",
       "      <td>0</td>\n",
       "      <td>0</td>\n",
       "      <td>0</td>\n",
       "      <td>0</td>\n",
       "      <td>0</td>\n",
       "      <td>0</td>\n",
       "      <td>0</td>\n",
       "      <td>...</td>\n",
       "      <td>0</td>\n",
       "      <td>0</td>\n",
       "      <td>0</td>\n",
       "      <td>0</td>\n",
       "      <td>0</td>\n",
       "      <td>0</td>\n",
       "      <td>0</td>\n",
       "      <td>0</td>\n",
       "      <td>-7.644503</td>\n",
       "      <td>-1.705813</td>\n",
       "    </tr>\n",
       "    <tr>\n",
       "      <th>3</th>\n",
       "      <td>4</td>\n",
       "      <td>0</td>\n",
       "      <td>0</td>\n",
       "      <td>0</td>\n",
       "      <td>0</td>\n",
       "      <td>0</td>\n",
       "      <td>0</td>\n",
       "      <td>0</td>\n",
       "      <td>0</td>\n",
       "      <td>0</td>\n",
       "      <td>...</td>\n",
       "      <td>0</td>\n",
       "      <td>0</td>\n",
       "      <td>0</td>\n",
       "      <td>0</td>\n",
       "      <td>0</td>\n",
       "      <td>0</td>\n",
       "      <td>0</td>\n",
       "      <td>0</td>\n",
       "      <td>-0.474207</td>\n",
       "      <td>5.836139</td>\n",
       "    </tr>\n",
       "    <tr>\n",
       "      <th>4</th>\n",
       "      <td>0</td>\n",
       "      <td>0</td>\n",
       "      <td>0</td>\n",
       "      <td>0</td>\n",
       "      <td>0</td>\n",
       "      <td>0</td>\n",
       "      <td>0</td>\n",
       "      <td>0</td>\n",
       "      <td>0</td>\n",
       "      <td>0</td>\n",
       "      <td>...</td>\n",
       "      <td>0</td>\n",
       "      <td>0</td>\n",
       "      <td>0</td>\n",
       "      <td>0</td>\n",
       "      <td>0</td>\n",
       "      <td>0</td>\n",
       "      <td>0</td>\n",
       "      <td>0</td>\n",
       "      <td>26.559574</td>\n",
       "      <td>6.024819</td>\n",
       "    </tr>\n",
       "  </tbody>\n",
       "</table>\n",
       "<p>5 rows × 787 columns</p>\n",
       "</div>"
      ],
      "text/plain": [
       "   label  pixel0  pixel1  pixel2  pixel3  pixel4  pixel5  pixel6  pixel7  \\\n",
       "0      1       0       0       0       0       0       0       0       0   \n",
       "1      0       0       0       0       0       0       0       0       0   \n",
       "2      1       0       0       0       0       0       0       0       0   \n",
       "3      4       0       0       0       0       0       0       0       0   \n",
       "4      0       0       0       0       0       0       0       0       0   \n",
       "\n",
       "   pixel8    ...     pixel776  pixel777  pixel778  pixel779  pixel780  \\\n",
       "0       0    ...            0         0         0         0         0   \n",
       "1       0    ...            0         0         0         0         0   \n",
       "2       0    ...            0         0         0         0         0   \n",
       "3       0    ...            0         0         0         0         0   \n",
       "4       0    ...            0         0         0         0         0   \n",
       "\n",
       "   pixel781  pixel782  pixel783    pca-one   pca-two  \n",
       "0         0         0         0  -5.140478 -5.226445  \n",
       "1         0         0         0  19.292332  6.032996  \n",
       "2         0         0         0  -7.644503 -1.705813  \n",
       "3         0         0         0  -0.474207  5.836139  \n",
       "4         0         0         0  26.559574  6.024819  \n",
       "\n",
       "[5 rows x 787 columns]"
      ]
     },
     "execution_count": 50,
     "metadata": {},
     "output_type": "execute_result"
    }
   ],
   "source": [
    "Digits_Train.head()"
   ]
  },
  {
   "cell_type": "markdown",
   "metadata": {
    "deletable": true,
    "editable": true
   },
   "source": [
    "### Prepare a new dataset with Principal Components\n",
    "Given that we now have 30 PC projections from previous, let us create a new data frame that consists of those PCs."
   ]
  },
  {
   "cell_type": "code",
   "execution_count": 53,
   "metadata": {
    "collapsed": false,
    "deletable": true,
    "editable": true
   },
   "outputs": [
    {
     "name": "stdout",
     "output_type": "stream",
     "text": [
      "The dimensions of PCA projection Data Frame: (42000, 30)\n",
      "         pc0       pc1       pc2       pc3       pc4       pc5       pc6  \\\n",
      "0  -5.140478 -5.226445  3.887001 -0.901519  4.929119  2.035404  4.706972   \n",
      "1  19.292332  6.032996  1.308147 -2.383291  3.095203 -1.791090 -3.772687   \n",
      "2  -7.644503 -1.705813  2.289327  2.241141  5.094424 -4.152078 -1.011965   \n",
      "3  -0.474207  5.836139  2.008615  4.271105  2.377780  2.179904  4.398167   \n",
      "4  26.559574  6.024819  0.933179 -3.012642  9.489185 -2.331195 -6.149600   \n",
      "\n",
      "        pc7       pc8       pc9    ...         pc20      pc21      pc22  \\\n",
      "0 -4.767307  0.231150 -1.460925    ...    -2.196021 -1.280025 -1.382545   \n",
      "1  0.153509 -4.115347 -4.299422    ...    -2.414436 -3.447117 -0.232320   \n",
      "2  1.732569  0.436515 -0.073276    ...    -0.575384 -0.939679  2.268140   \n",
      "3 -0.353846  0.992566  5.500013    ...    -2.013641  1.036307  0.456137   \n",
      "4 -1.783672 -4.123345 -5.757432    ...     0.972164  0.822964 -0.891823   \n",
      "\n",
      "       pc23      pc24      pc25      pc26      pc27      pc28      pc29  \n",
      "0 -0.992343  2.496793 -0.058169  0.951692 -2.014211  0.786573 -0.057926  \n",
      "1  0.324622 -0.524556 -4.158251  0.097831  0.085979 -0.587294 -1.368296  \n",
      "2  1.893719 -2.089352 -0.634091  1.102600 -1.610468  0.405685  0.364499  \n",
      "3  0.521981  3.397357 -1.625093  0.735425  0.623206  0.848822  0.468795  \n",
      "4  0.180020 -2.770276 -3.351768  1.138979 -0.012292 -1.502868 -0.480956  \n",
      "\n",
      "[5 rows x 30 columns]\n",
      "           pc0         pc1         pc2         pc3         pc4         pc5  \\\n",
      "0  -661.595780 -699.311328  183.282037  120.611398  -81.081819  489.461875   \n",
      "1  1701.451685 -360.551556 -501.805594  335.423656 -442.378934  738.404054   \n",
      "2  -886.894434 -293.765782   67.155309   78.263766 -473.715932 -323.540638   \n",
      "3  -165.755603  300.182760  -64.145483  759.706261 -425.844385  157.390329   \n",
      "4  1923.709716 -449.153069 -548.613025  188.555150 -651.736284  990.063821   \n",
      "\n",
      "          pc6         pc7         pc8         pc9     ...            pc20  \\\n",
      "0 -683.470794   85.559349  348.548103  202.978799     ...       44.477337   \n",
      "1  653.875493 -176.600592   -7.519794   67.845335     ...     -212.793508   \n",
      "2  437.799125 -305.377849 -195.295714  -25.625033     ...     -104.528394   \n",
      "3 -304.099148  276.408686  -45.867336 -295.475336     ...     -231.476874   \n",
      "4  564.507121 -255.915208  124.914613  177.566899     ...      -15.299262   \n",
      "\n",
      "         pc21        pc22        pc23        pc24        pc25        pc26  \\\n",
      "0  222.193887   57.629228 -149.083944   13.303521  -41.316711 -332.902263   \n",
      "1 -272.301415    7.555764  -22.556708  -34.811266  264.027260  -76.101154   \n",
      "2  128.842216  152.054692   52.477607 -112.674509   88.757893 -228.923375   \n",
      "3  -90.414744  292.418552  127.088934  -67.893958 -193.692758 -184.259105   \n",
      "4 -130.814417 -140.027238  -56.838321  175.614049   -8.384291   51.161792   \n",
      "\n",
      "         pc27        pc28        pc29  \n",
      "0  207.579404   56.616444   79.939617  \n",
      "1   13.202793  -81.479875  -88.807199  \n",
      "2  106.060870  -14.261499  122.454882  \n",
      "3   82.242288  214.036089  192.128762  \n",
      "4 -164.989812  -76.074599   22.394379  \n",
      "\n",
      "[5 rows x 30 columns]\n"
     ]
    }
   ],
   "source": [
    "#col_names = [ 'pca'+str(i) for i in range(0,30) ]\n",
    "Digits_pca_df_x = pd.DataFrame(PCA_30.fit[:,], columns = col_names)\n",
    "\n",
    "Digits_pca_df_y = pd.DataFrame(Digits_Train['label'])\n",
    "\n",
    "print(\"The dimensions of PCA projection Data Frame: {0}\".format(Digits_pca_df_x.shape))\n",
    "\n",
    "Digits_pca_df_xNS = pd.DataFrame(X_30d[:,], columns = col_names)\n",
    "\n",
    "Digits_pca_df_yNS = pd.DataFrame(Digits_Train1['label'])\n",
    "\n",
    "print(Digits_pca_df_x.head(5))\n",
    "print(Digits_pca_df_xNS.head(5))"
   ]
  },
  {
   "cell_type": "markdown",
   "metadata": {
    "deletable": true,
    "editable": true
   },
   "source": [
    "### Tip:\n",
    "When performing PCA, it is typically a good idea to normalize the data first. Because PCA seeks to identify the principal components with the highest variance, if the data are not properly normalized, attributes with large values and large variances (in absolute terms) will end up dominating the first principal component when they should not. Normalizing the data gets each attribute onto more or less the same scale, so that each attribute has an opportunity to contribute to the principal component analysis."
   ]
  },
  {
   "cell_type": "markdown",
   "metadata": {
    "deletable": true,
    "editable": true
   },
   "source": [
    "# K-Means Clustering"
   ]
  },
  {
   "cell_type": "markdown",
   "metadata": {
    "deletable": true,
    "editable": true
   },
   "source": [
    "### What is Clustering?\n",
    "Clustering - A typical and well-known type of unsupervised learning. Clustering algorithms try to find natural groupings in data. Similar data points (according to some notion of similarity) are considered in the same group. We call these groups clusters.\n",
    "\n",
    "Once algorithm is run and groups are determined, any new data can be easily assigned to the correct group\n",
    "\n",
    "Clsutering in general can be used for any type of grouping. Some examples of use cases are:\n",
    "\n",
    "* Behavioral segmentation:\n",
    "    - Segment by purchase history\n",
    "    - Segment by activities on application, website, or platform\n",
    "    - Define personas based on interests\n",
    "    - Create profiles based on activity monitoring\n",
    "* Inventory categorization:\n",
    "    - Group inventory by sales activity\n",
    "    - Group inventory by manufacturing metrics\n",
    "    - Sorting sensor measurements:\n",
    "* Detect activity types in motion sensors\n",
    "    - Group images\n",
    "    - Separate audio\n",
    "    - Identify groups in health monitoring\n",
    "* Detecting bots or anomalies:\n",
    "    - Separate valid activity groups from bots\n",
    "    - Group valid activity to clean up outlier detection\n",
    "\n",
    "\n",
    "### What is K-Means Clustering\n",
    "K-Means clustering is a simple and widely-used clustering algorithm. Given value of k , it tries to build k clusters from samples in the dataset.\n",
    "\n",
    "### How does it work?\n",
    "\n",
    "Below are 4 simple steps\n",
    "1. Input K and set of points x<sub>1</sub>, x<sub>2</sub>, x<sub>3</sub>.....x<sub>n</sub>\n",
    "2. Place or start with some K centroids at random locations, c<sub>1</sub>, c<sub>2</sub>, c<sub>3</sub>.....c<sub>k</sub>\n",
    "3. Repeat below until convergence\n",
    "    * For each point x<sub>i</sub>\n",
    "        - find nearest centroid c<sub>j</sub>\n",
    "        - assign the point x<sub>i</sub> to cluster J\n",
    "    * For each cluster J = 1....K\n",
    "        - new centroid c<sub>j</sub> = mean of all points x<sub>i</sub> in that cluster\n",
    "        - assign to cluster J in previous step\n",
    "4. Stop when none of the cluster assignments change"
   ]
  },
  {
   "cell_type": "markdown",
   "metadata": {
    "deletable": true,
    "editable": true
   },
   "source": [
    "### Import Libraries\n",
    "We will use the Scikit Learn libraries for the purpose of doing K-Means clsutering on the 30 PCs that we got from previos exercise."
   ]
  },
  {
   "cell_type": "code",
   "execution_count": 4,
   "metadata": {
    "collapsed": false,
    "deletable": true,
    "editable": true
   },
   "outputs": [
    {
     "name": "stderr",
     "output_type": "stream",
     "text": [
      "C:\\Users\\gorapalp\\AppData\\Local\\Enthought\\Canopy\\edm\\envs\\User\\lib\\site-packages\\sklearn\\cross_validation.py:44: DeprecationWarning: This module was deprecated in version 0.18 in favor of the model_selection module into which all the refactored classes and functions are moved. Also note that the interface of the new CV iterators are different from that of this module. This module will be removed in 0.20.\n",
      "  \"This module will be removed in 0.20.\", DeprecationWarning)\n"
     ]
    }
   ],
   "source": [
    "from sklearn.cluster import KMeans\n",
    "from time import time\n",
    "from sklearn import metrics\n",
    "from sklearn.cross_validation import train_test_split"
   ]
  },
  {
   "cell_type": "markdown",
   "metadata": {
    "deletable": true,
    "editable": true
   },
   "source": [
    "### Divide the dataset into Training and Testing for Standardised and Non-Standardized datasets\n",
    "We will divide the dataset into Training and Testing for our analysis. Once done let us print the dimensions of training set and testing set."
   ]
  },
  {
   "cell_type": "code",
   "execution_count": 54,
   "metadata": {
    "collapsed": false,
    "deletable": true,
    "editable": true
   },
   "outputs": [],
   "source": [
    "# Split the `digits` data into training and test sets\n",
    "X_train, X_test, y_train, y_test = train_test_split(Digits_pca_df_x, Digits_pca_df_y, test_size=0.25, random_state=42)\n",
    "X_trainNS, X_testNS, y_trainNS, y_testNS = train_test_split(Digits_pca_df_xNS, Digits_pca_df_yNS, test_size=0.25, random_state=42)"
   ]
  },
  {
   "cell_type": "code",
   "execution_count": 25,
   "metadata": {
    "collapsed": false,
    "deletable": true,
    "editable": true
   },
   "outputs": [
    {
     "name": "stdout",
     "output_type": "stream",
     "text": [
      "Dimensions of Training Set: (31500, 30)\n",
      "Dimensions of Training Labels:\n",
      "10\n"
     ]
    }
   ],
   "source": [
    "print('Dimensions of Training Set: {0}'.format(X_train.shape))\n",
    "print('Dimensions of Training Labels:')\n",
    "print(len(np.unique(y_train)))"
   ]
  },
  {
   "cell_type": "markdown",
   "metadata": {
    "deletable": true,
    "editable": true
   },
   "source": [
    "### Build the Model and Train using 'k-means++'\n",
    "We will create the model using 'k-means++' and creating 10 clusters"
   ]
  },
  {
   "cell_type": "code",
   "execution_count": 55,
   "metadata": {
    "collapsed": false,
    "deletable": true,
    "editable": true
   },
   "outputs": [
    {
     "data": {
      "text/plain": [
       "KMeans(algorithm='auto', copy_x=True, init='k-means++', max_iter=300,\n",
       "    n_clusters=10, n_init=10, n_jobs=1, precompute_distances='auto',\n",
       "    random_state=None, tol=0.0001, verbose=0)"
      ]
     },
     "execution_count": 55,
     "metadata": {},
     "output_type": "execute_result"
    }
   ],
   "source": [
    "## Create the KMeans model for Standardized(X_train) and non standardized(X_trainNS) input\n",
    "kmeans = KMeans(init='k-means++', n_clusters=10, n_init=10)\n",
    "\n",
    "## Fit the model to the data\n",
    "kmeans.fit(X_train)\n",
    "kmeans.fit(X_trainNS)"
   ]
  },
  {
   "cell_type": "markdown",
   "metadata": {
    "deletable": true,
    "editable": true
   },
   "source": [
    "Once clsuters are created, we will plot the centroids of the clsuters in the form of images"
   ]
  },
  {
   "cell_type": "markdown",
   "metadata": {
    "deletable": true,
    "editable": true
   },
   "source": [
    "### Evaluate the performance\n",
    "Let us visually observe the predicted labels vrsus test labels. Let us also print the confusion matrix and accuracy score using Metrics module"
   ]
  },
  {
   "cell_type": "code",
   "execution_count": 56,
   "metadata": {
    "collapsed": false,
    "deletable": true,
    "editable": true
   },
   "outputs": [
    {
     "name": "stdout",
     "output_type": "stream",
     "text": [
      "[2 2 2 2 2 2 2 2 2 2 2 2 2 2 2 2 2 2 2 2 2 2 2 2 2 2 2 2 2 2 2 2 2 2 2 2 2\n",
      " 2 2 2 2 2 2 2 2 2 2 2 2 2 2 2 2 2 2 2 2 2 2 2 2 2 2 2 2 2 2 2 2 2 2 2 2 2\n",
      " 2 2 2 2 2 2 2 2 2 2 2 2 2 2 2 2 2 2 2 2 2 2 2 2 2 2]\n",
      "       label\n",
      "5457       8\n",
      "38509      1\n",
      "25536      9\n",
      "31803      9\n",
      "39863      8\n",
      "30639      6\n",
      "12986      2\n",
      "41067      2\n",
      "30743      7\n",
      "6839       1\n",
      "17164      6\n",
      "21723      3\n",
      "12272      1\n",
      "5030       2\n",
      "25222      7\n",
      "34680      4\n",
      "4976       3\n",
      "19565      3\n",
      "27947      6\n",
      "31133      4\n",
      "3220       9\n",
      "27143      5\n",
      "12902      2\n",
      "10151      6\n",
      "16341      0\n",
      "28553      0\n",
      "1395       0\n",
      "12793      8\n",
      "5751       6\n",
      "11911      3\n",
      "...      ...\n",
      "11904      9\n",
      "15353      4\n",
      "6316       2\n",
      "19082      8\n",
      "39717      1\n",
      "39926      6\n",
      "14222      3\n",
      "3715       9\n",
      "37057      0\n",
      "9285       3\n",
      "29559      1\n",
      "3214       7\n",
      "10877      6\n",
      "40766      7\n",
      "23701      6\n",
      "38195      1\n",
      "14782      9\n",
      "12525      5\n",
      "2830       3\n",
      "8718       6\n",
      "5356       9\n",
      "15044      3\n",
      "12000      7\n",
      "30939      6\n",
      "23343      6\n",
      "34188      5\n",
      "8504       2\n",
      "38741      9\n",
      "734        3\n",
      "24999      5\n",
      "\n",
      "[100 rows x 1 columns]\n",
      "[2 3 6 5 2 7 9 7 6 4 7 1 3 9 5 7 1 4 7 5 0 0 9 7 8 8 0 2 7 1 3 7 4 8 1 7 6\n",
      " 1 7 3 5 6 5 7 2 1 5 9 6 2 4 1 1 6 3 2 7 9 6 7 4 8 5 2 7 1 6 1 6 1 5 6 9 2\n",
      " 4 7 1 6 0 1 3 6 7 6 7 4 6 4 1 7 5 1 6 9 7 4 9 6 1 1]\n",
      "       label\n",
      "5457       8\n",
      "38509      1\n",
      "25536      9\n",
      "31803      9\n",
      "39863      8\n",
      "30639      6\n",
      "12986      2\n",
      "41067      2\n",
      "30743      7\n",
      "6839       1\n",
      "17164      6\n",
      "21723      3\n",
      "12272      1\n",
      "5030       2\n",
      "25222      7\n",
      "34680      4\n",
      "4976       3\n",
      "19565      3\n",
      "27947      6\n",
      "31133      4\n",
      "3220       9\n",
      "27143      5\n",
      "12902      2\n",
      "10151      6\n",
      "16341      0\n",
      "28553      0\n",
      "1395       0\n",
      "12793      8\n",
      "5751       6\n",
      "11911      3\n",
      "...      ...\n",
      "11904      9\n",
      "15353      4\n",
      "6316       2\n",
      "19082      8\n",
      "39717      1\n",
      "39926      6\n",
      "14222      3\n",
      "3715       9\n",
      "37057      0\n",
      "9285       3\n",
      "29559      1\n",
      "3214       7\n",
      "10877      6\n",
      "40766      7\n",
      "23701      6\n",
      "38195      1\n",
      "14782      9\n",
      "12525      5\n",
      "2830       3\n",
      "8718       6\n",
      "5356       9\n",
      "15044      3\n",
      "12000      7\n",
      "30939      6\n",
      "23343      6\n",
      "34188      5\n",
      "8504       2\n",
      "38741      9\n",
      "734        3\n",
      "24999      5\n",
      "\n",
      "[100 rows x 1 columns]\n"
     ]
    }
   ],
   "source": [
    "# Predict the labels for `X_test`\n",
    "y_pred= kmeans.predict(X_test)\n",
    "\n",
    "# Print out the first 100 instances of `y_pred`\n",
    "print(y_pred[:100])\n",
    "\n",
    "# Print out the first 100 instances of `y_test`\n",
    "print(y_test[:100])\n",
    "\n",
    "# Predict the labels for `X_test`\n",
    "y_predNS= kmeans.predict(X_testNS)\n",
    "\n",
    "# Print out the first 100 instances of `y_pred`\n",
    "print(y_predNS[:100])\n",
    "\n",
    "# Print out the first 100 instances of `y_test`\n",
    "print(y_testNS[:100])\n",
    "\n",
    "# Study the shape of the cluster centers\n",
    "#kmeans.cluster_centers_.shape"
   ]
  },
  {
   "cell_type": "code",
   "execution_count": 29,
   "metadata": {
    "collapsed": false,
    "deletable": true,
    "editable": true
   },
   "outputs": [
    {
     "name": "stdout",
     "output_type": "stream",
     "text": [
      "[[   0   73   75    1   89  189    5   13    2  578]\n",
      " [   0   17    3    0    2    1 1122    1    0    0]\n",
      " [   5   14  156   20  260  115  136  358    5    3]\n",
      " [  20   23   16   29  171  662  109  104   15    2]\n",
      " [  55  135   27  579    4    0   72   11  131   10]\n",
      " [   7  387   23   33   23  310   62   33   15    5]\n",
      " [   0   17  776    5    4   15   74   64    0   55]\n",
      " [ 131   21    0  215    6    3   81    3  673    2]\n",
      " [  12  289    9   49    6  404  179   26   21   10]\n",
      " [  66   14    1  521    2   21   49    9  343    8]]\n"
     ]
    }
   ],
   "source": [
    "# Print the confusion matrix\n",
    "print(metrics.confusion_matrix(y_test, y_pred))"
   ]
  },
  {
   "cell_type": "code",
   "execution_count": 63,
   "metadata": {
    "collapsed": false,
    "deletable": true,
    "editable": true
   },
   "outputs": [
    {
     "name": "stdout",
     "output_type": "stream",
     "text": [
      "0.102095238095\n",
      "0.0594285714286\n"
     ]
    }
   ],
   "source": [
    "# Print the accuracy\n",
    "print(metrics.accuracy_score(y_test, y_pred))\n",
    "print(metrics.accuracy_score(y_testNS, y_predNS))"
   ]
  },
  {
   "cell_type": "markdown",
   "metadata": {
    "deletable": true,
    "editable": true
   },
   "source": [
    "### Build the Model and Train using 'random'\n",
    "We will create the model using 'random' and creating 10 clusters"
   ]
  },
  {
   "cell_type": "code",
   "execution_count": 64,
   "metadata": {
    "collapsed": false,
    "deletable": true,
    "editable": true
   },
   "outputs": [
    {
     "data": {
      "text/plain": [
       "KMeans(algorithm='auto', copy_x=True, init='random', max_iter=300,\n",
       "    n_clusters=10, n_init=10, n_jobs=1, precompute_distances='auto',\n",
       "    random_state=None, tol=0.0001, verbose=0)"
      ]
     },
     "execution_count": 64,
     "metadata": {},
     "output_type": "execute_result"
    }
   ],
   "source": [
    "## Create the KMeans model for Standardized(test) and non standardized(testNS) input\n",
    "kmeans_random = KMeans(init='random', n_clusters=10, n_init=10)\n",
    "\n",
    "## Fit the model to the data\n",
    "kmeans_random.fit(X_train)\n",
    "kmeans_random.fit(X_trainNS)"
   ]
  },
  {
   "cell_type": "markdown",
   "metadata": {
    "deletable": true,
    "editable": true
   },
   "source": [
    "Once clsuters are created, we will plot the centroids of the clsuters in the form of images"
   ]
  },
  {
   "cell_type": "code",
   "execution_count": 65,
   "metadata": {
    "collapsed": false,
    "deletable": true,
    "editable": true
   },
   "outputs": [
    {
     "name": "stdout",
     "output_type": "stream",
     "text": [
      "[1 1 1 1 1 1 1 1 1 1 1 1 1 1 1 1 1 1 1 1 1 1 1 1 1 1 1 1 1 1 1 1 1 1 1 1 1\n",
      " 1 1 1 1 1 1 1 1 1 1 1 1 1 1 1 1 1 1 1 1 1 1 1 1 1 1 1 1 1 1 1 1 1 1 1 1 1\n",
      " 1 1 1 1 1 1 1 1 1 1 1 1 1 1 1 1 1 1 1 1 1 1 1 1 1 1]\n",
      "       label\n",
      "5457       8\n",
      "38509      1\n",
      "25536      9\n",
      "31803      9\n",
      "39863      8\n",
      "30639      6\n",
      "12986      2\n",
      "41067      2\n",
      "30743      7\n",
      "6839       1\n",
      "17164      6\n",
      "21723      3\n",
      "12272      1\n",
      "5030       2\n",
      "25222      7\n",
      "34680      4\n",
      "4976       3\n",
      "19565      3\n",
      "27947      6\n",
      "31133      4\n",
      "3220       9\n",
      "27143      5\n",
      "12902      2\n",
      "10151      6\n",
      "16341      0\n",
      "28553      0\n",
      "1395       0\n",
      "12793      8\n",
      "5751       6\n",
      "11911      3\n",
      "...      ...\n",
      "11904      9\n",
      "15353      4\n",
      "6316       2\n",
      "19082      8\n",
      "39717      1\n",
      "39926      6\n",
      "14222      3\n",
      "3715       9\n",
      "37057      0\n",
      "9285       3\n",
      "29559      1\n",
      "3214       7\n",
      "10877      6\n",
      "40766      7\n",
      "23701      6\n",
      "38195      1\n",
      "14782      9\n",
      "12525      5\n",
      "2830       3\n",
      "8718       6\n",
      "5356       9\n",
      "15044      3\n",
      "12000      7\n",
      "30939      6\n",
      "23343      6\n",
      "34188      5\n",
      "8504       2\n",
      "38741      9\n",
      "734        3\n",
      "24999      5\n",
      "\n",
      "[100 rows x 1 columns]\n",
      "[1 6 8 3 1 4 0 4 8 9 4 2 6 0 3 4 2 9 4 3 7 7 0 4 5 5 7 1 4 2 6 4 9 5 2 4 8\n",
      " 2 4 6 3 8 3 4 1 2 3 0 8 1 9 2 2 8 6 1 4 0 8 4 9 5 3 1 4 2 8 2 8 2 3 8 0 1\n",
      " 9 4 2 8 7 2 6 8 4 8 4 9 8 9 2 4 3 2 8 0 4 9 0 8 2 2]\n",
      "       label\n",
      "5457       8\n",
      "38509      1\n",
      "25536      9\n",
      "31803      9\n",
      "39863      8\n",
      "30639      6\n",
      "12986      2\n",
      "41067      2\n",
      "30743      7\n",
      "6839       1\n",
      "17164      6\n",
      "21723      3\n",
      "12272      1\n",
      "5030       2\n",
      "25222      7\n",
      "34680      4\n",
      "4976       3\n",
      "19565      3\n",
      "27947      6\n",
      "31133      4\n",
      "3220       9\n",
      "27143      5\n",
      "12902      2\n",
      "10151      6\n",
      "16341      0\n",
      "28553      0\n",
      "1395       0\n",
      "12793      8\n",
      "5751       6\n",
      "11911      3\n",
      "...      ...\n",
      "11904      9\n",
      "15353      4\n",
      "6316       2\n",
      "19082      8\n",
      "39717      1\n",
      "39926      6\n",
      "14222      3\n",
      "3715       9\n",
      "37057      0\n",
      "9285       3\n",
      "29559      1\n",
      "3214       7\n",
      "10877      6\n",
      "40766      7\n",
      "23701      6\n",
      "38195      1\n",
      "14782      9\n",
      "12525      5\n",
      "2830       3\n",
      "8718       6\n",
      "5356       9\n",
      "15044      3\n",
      "12000      7\n",
      "30939      6\n",
      "23343      6\n",
      "34188      5\n",
      "8504       2\n",
      "38741      9\n",
      "734        3\n",
      "24999      5\n",
      "\n",
      "[100 rows x 1 columns]\n"
     ]
    }
   ],
   "source": [
    "# Predict the labels for Standardized(test) and non standardized(testNS) input\n",
    "y_pred= kmeans_random.predict(X_test)\n",
    "\n",
    "# Print out the first 100 instances of `y_pred`\n",
    "print(y_pred[:100])\n",
    "\n",
    "# Print out the first 100 instances of `y_test`\n",
    "print(y_test[:100])\n",
    "\n",
    "y_predNS= kmeans_random.predict(X_testNS)\n",
    "\n",
    "# Print out the first 100 instances of `y_pred`\n",
    "print(y_predNS[:100])\n",
    "\n",
    "# Print out the first 100 instances of `y_test`\n",
    "print(y_testNS[:100])\n",
    "\n",
    "# Study the shape of the cluster centers\n",
    "#kmeans_random.cluster_centers_.shape"
   ]
  },
  {
   "cell_type": "code",
   "execution_count": 66,
   "metadata": {
    "collapsed": false,
    "deletable": true,
    "editable": true
   },
   "outputs": [
    {
     "name": "stdout",
     "output_type": "stream",
     "text": [
      "[[   0 1025    0    0    0    0    0    0    0    0]\n",
      " [   0 1146    0    0    0    0    0    0    0    0]\n",
      " [   0 1072    0    0    0    0    0    0    0    0]\n",
      " [   0 1151    0    0    0    0    0    0    0    0]\n",
      " [   0 1024    0    0    0    0    0    0    0    0]\n",
      " [   0  898    0    0    0    0    0    0    0    0]\n",
      " [   0 1010    0    0    0    0    0    0    0    0]\n",
      " [   0 1135    0    0    0    0    0    0    0    0]\n",
      " [   0 1005    0    0    0    0    0    0    0    0]\n",
      " [   0 1034    0    0    0    0    0    0    0    0]]\n",
      "[[  2  24  38   5  33 505   0 414   3   1]\n",
      " [  0   0   0   0   1   0 640   0   0 505]\n",
      " [731  29  60  32  45   2  68  20  10  75]\n",
      " [ 39 185 752  33  10   5  75  22   8  22]\n",
      " [  8   1   0 569  31   5  23   1 340  46]\n",
      " [  7 240 303  52  20  10  19  43  60 144]\n",
      " [ 12   6   7  12 836  32  44  25   0  36]\n",
      " [  9   1   1 313   0   1  58   1 697  54]\n",
      " [  8 611 198  28  14   6  49   4  29  58]\n",
      " [  2  11  16 540   5   6  41   4 394  15]]\n"
     ]
    }
   ],
   "source": [
    "# Print the confusion matrix\n",
    "#Confusion matrix for Standardized(test) and non standardized(testNS) input\n",
    "print(metrics.confusion_matrix(y_test, y_pred))\n",
    "print(metrics.confusion_matrix(y_testNS, y_predNS))"
   ]
  },
  {
   "cell_type": "code",
   "execution_count": 67,
   "metadata": {
    "collapsed": false,
    "deletable": true,
    "editable": true,
    "scrolled": true
   },
   "outputs": [
    {
     "name": "stdout",
     "output_type": "stream",
     "text": [
      "0.109142857143\n",
      "0.0214285714286\n"
     ]
    }
   ],
   "source": [
    "# Print the accuracy\n",
    "print(metrics.accuracy_score(y_test, y_pred))\n",
    "print(metrics.accuracy_score(y_testNS, y_predNS))"
   ]
  },
  {
   "cell_type": "code",
   "execution_count": null,
   "metadata": {
    "collapsed": true,
    "deletable": true,
    "editable": true
   },
   "outputs": [],
   "source": []
  }
 ],
 "metadata": {
  "kernelspec": {
   "display_name": "Python 3",
   "language": "python",
   "name": "python3"
  },
  "language_info": {
   "codemirror_mode": {
    "name": "ipython",
    "version": 3
   },
   "file_extension": ".py",
   "mimetype": "text/x-python",
   "name": "python",
   "nbconvert_exporter": "python",
   "pygments_lexer": "ipython3",
   "version": "3.5.2"
  }
 },
 "nbformat": 4,
 "nbformat_minor": 2
}
